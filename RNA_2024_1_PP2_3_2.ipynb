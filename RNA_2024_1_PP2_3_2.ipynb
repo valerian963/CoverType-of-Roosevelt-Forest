{
  "cells": [
    {
      "cell_type": "markdown",
      "metadata": {
        "id": "jMCipTFmifYh"
      },
      "source": [
        "# Equipe\n",
        "\n",
        "\n",
        "*   Valéria Ribeiro dos Santos\n",
        "*   Marcos Costa Antunes Afonso\n",
        "*   Miguel Angelo Oliveira\n",
        "*   Kaique Olegar Amaro\n",
        "\n"
      ]
    },
    {
      "cell_type": "markdown",
      "metadata": {
        "id": "ac-Mp3etvEo8"
      },
      "source": [
        "## Redes Neurais Artificiais 2024.1\n",
        "\n",
        "- **Disciplina**: Redes Neurais Artificiais 2024.1  \n",
        "- **Professora**: Elloá B. Guedes (ebgcosta@uea.edu.br)  \n",
        "- **Github**: http://github.com/elloa  \n",
        "        \n",
        "\n",
        "Levando em conta a base de dados **_Forest Cover Type_**, esta segunda parte do Projeto Prático 2.2 diz respeito à proposição e avaliação de múltiplas redes neurais artificiais do tipo feedforward multilayer perceptron para o problema da classificação multi-classe da cobertura florestal em uma área do Roosevelt National Forest.\n",
        "\n",
        "## Testando Redes Neurais sem os Atributos Categórios\n",
        "\n",
        "1. Abra a base de dados em questão\n",
        "2. Elimine todas as colunas relativas aos atributos categóricos\n",
        "3. Armazene o atributo alvo em uma variável y e os atributos preditores em uma variável X\n",
        "4. Efetue uma partição holdout 70/30 com o sklearn, distribuindo os exemplos de maneira aleatória\n",
        "5. Efetue o escalonamento dos atributos\n",
        "\n",
        "### Escalonando os atributos\n",
        "\n",
        "O treinamento de uma rede neural artificial é mais eficiente quando os valores que lhes são fornecidos como entrada são pequenos, pois isto favorece a convergência. Isto é feito escalonando-se todos os atributos para o intervalo [0,1], mas precisa ser feito de maneira cautelosa, para que informações do conjunto de teste não sejam fornecidas no treinamento.\n",
        "\n",
        "Há duas estratégias para tal escalonamento: normalização e padronização. Ambas possuem características particulares, vantagens e limitações, como é possível ver aqui: https://www.analyticsvidhya.com/blog/2020/04/feature-scaling-machine-learning-normalization-standardization/\n",
        "\n",
        "\n",
        "No nosso caso, vamos usar a padronização. Assim, com os atributos preditores do treinamento, isto é, X_train, deve-se subtrair a média e dividir pelo desvio padrão:\n",
        "\n",
        "X_train_std = (X_train - np.mean(X_train))/np.std(X_train)\n",
        "\n",
        "Em seguida, o mesmo deve ser feito com os atributos preditores do conjunto de testes, mas com padronização relativa ao conjunto de treinamento:\n",
        "\n",
        "X_test_std = (X_test - np.mean(X_train))/np.std(X_train)\n",
        "\n",
        "Se todo o conjunto X for utilizado na padronização, a rede neural receberá informações do conjunto de teste por meio da média e variância utilizada para preparar os dados de treinamento, o que não é desejável.\n",
        "\n",
        "\n",
        "### Continuando\n",
        "\n",
        "5. Treine uma rede neural multilayer perceptron para este problema com uma única camada e dez neurônios  \n",
        "    5.1 Utilize a função de ativação ReLU  \n",
        "    5.2 Utilize o solver Adam    \n",
        "    5.3 Imprima o passo a passo do treinamento    \n",
        "    5.4 Utilize o número máximo de épocas igual a 300  \n",
        "6. Com o modelo em questão, após o treinamento, apresente:  \n",
        "    6.1 Matriz de confusão para o conjunto de teste  \n",
        "    6.2 Acurácia  \n",
        "    6.3 F-Score  \n",
        "    6.4 Precisão  \n",
        "    6.5 Revocação  \n",
        "7. Repita o treinamento da mesma rede anterior sem imprimir o passo a passo (verbose False) por 10 vezes  \n",
        "    7.1 Cada uma destas repetições deve ser feita com uma nova partição Holdout  \n",
        "    7.2 Apresente a média e o desvio padrão da acurácia e do F-Score para o conjunto de treino  \n",
        "8. Repita por 10 vezes o treinamento desta mesma rede, mas utilizando o otimizador SGD  \n",
        "    8.1 Apresente a média e o desvio padrão da acurácia e do F-Score para o conjunto de treino  \n",
        "9. Houve influência da escolha do otimizador no desempenho da rede?\n"
      ]
    },
    {
      "cell_type": "code",
      "execution_count": null,
      "metadata": {
        "id": "pyaudjLPNLj0"
      },
      "outputs": [],
      "source": [
        "import pandas as pd\n",
        "import numpy as np\n",
        "from sklearn.model_selection import train_test_split\n",
        "from sklearn.neural_network import MLPClassifier\n",
        "from sklearn.datasets import make_classification\n",
        "import seaborn as sns\n",
        "import matplotlib.pyplot as plt\n",
        "from sklearn.metrics import ConfusionMatrixDisplay, confusion_matrix, accuracy_score, f1_score, precision_score, recall_score, accuracy_score\n",
        "from prettytable import PrettyTable\n",
        "from joblib import Parallel, delayed\n",
        "from sklearn.preprocessing import OneHotEncoder, StandardScaler\n",
        "from sklearn.compose import ColumnTransformer\n",
        "from joblib import Parallel, delayed"
      ]
    },
    {
      "cell_type": "code",
      "execution_count": null,
      "metadata": {
        "id": "4BGbKY7bmRx4"
      },
      "outputs": [],
      "source": [
        "def imprimir_tabelas(top3,cabecalho):\n",
        "    tabela = PrettyTable()\n",
        "    tabela.field_names = cabecalho\n",
        "    for i, network in enumerate(top3):\n",
        "        tabela.add_row([\n",
        "            f\"Top-{i+1}\",\n",
        "            network['hidden_layer_sizes'],\n",
        "            network['activation'],\n",
        "            network['solver'],\n",
        "            network['max_iter'],\n",
        "            f\"{network['f_score']:.4f}\",\n",
        "            f\"{network['accuracy']:.4f}\",\n",
        "            network['tp'],\n",
        "            network['tn'],\n",
        "            network['fp'],\n",
        "            network['fn']\n",
        "        ])\n",
        "\n",
        "\n",
        "    print(tabela)"
      ]
    },
    {
      "cell_type": "code",
      "execution_count": null,
      "metadata": {
        "id": "bAqLRQXrwE4s"
      },
      "outputs": [],
      "source": [
        "df = pd.read_csv('covtype.csv')"
      ]
    },
    {
      "cell_type": "code",
      "execution_count": null,
      "metadata": {
        "colab": {
          "base_uri": "https://localhost:8080/",
          "height": 226
        },
        "id": "ho4a-v0zM8MG",
        "outputId": "762d362d-d26c-4f2d-b372-d0003464d772"
      },
      "outputs": [
        {
          "data": {
            "text/html": [
              "<div>\n",
              "<style scoped>\n",
              "    .dataframe tbody tr th:only-of-type {\n",
              "        vertical-align: middle;\n",
              "    }\n",
              "\n",
              "    .dataframe tbody tr th {\n",
              "        vertical-align: top;\n",
              "    }\n",
              "\n",
              "    .dataframe thead th {\n",
              "        text-align: right;\n",
              "    }\n",
              "</style>\n",
              "<table border=\"1\" class=\"dataframe\">\n",
              "  <thead>\n",
              "    <tr style=\"text-align: right;\">\n",
              "      <th></th>\n",
              "      <th>Elevation</th>\n",
              "      <th>Aspect</th>\n",
              "      <th>Slope</th>\n",
              "      <th>Horizontal_Distance_To_Hydrology</th>\n",
              "      <th>Vertical_Distance_To_Hydrology</th>\n",
              "      <th>Horizontal_Distance_To_Roadways</th>\n",
              "      <th>Hillshade_9am</th>\n",
              "      <th>Hillshade_Noon</th>\n",
              "      <th>Hillshade_3pm</th>\n",
              "      <th>Horizontal_Distance_To_Fire_Points</th>\n",
              "      <th>Cover_Type</th>\n",
              "    </tr>\n",
              "  </thead>\n",
              "  <tbody>\n",
              "    <tr>\n",
              "      <th>0</th>\n",
              "      <td>2596</td>\n",
              "      <td>51</td>\n",
              "      <td>3</td>\n",
              "      <td>258</td>\n",
              "      <td>0</td>\n",
              "      <td>510</td>\n",
              "      <td>221</td>\n",
              "      <td>232</td>\n",
              "      <td>148</td>\n",
              "      <td>6279</td>\n",
              "      <td>5</td>\n",
              "    </tr>\n",
              "    <tr>\n",
              "      <th>1</th>\n",
              "      <td>2590</td>\n",
              "      <td>56</td>\n",
              "      <td>2</td>\n",
              "      <td>212</td>\n",
              "      <td>-6</td>\n",
              "      <td>390</td>\n",
              "      <td>220</td>\n",
              "      <td>235</td>\n",
              "      <td>151</td>\n",
              "      <td>6225</td>\n",
              "      <td>5</td>\n",
              "    </tr>\n",
              "    <tr>\n",
              "      <th>2</th>\n",
              "      <td>2804</td>\n",
              "      <td>139</td>\n",
              "      <td>9</td>\n",
              "      <td>268</td>\n",
              "      <td>65</td>\n",
              "      <td>3180</td>\n",
              "      <td>234</td>\n",
              "      <td>238</td>\n",
              "      <td>135</td>\n",
              "      <td>6121</td>\n",
              "      <td>2</td>\n",
              "    </tr>\n",
              "    <tr>\n",
              "      <th>3</th>\n",
              "      <td>2785</td>\n",
              "      <td>155</td>\n",
              "      <td>18</td>\n",
              "      <td>242</td>\n",
              "      <td>118</td>\n",
              "      <td>3090</td>\n",
              "      <td>238</td>\n",
              "      <td>238</td>\n",
              "      <td>122</td>\n",
              "      <td>6211</td>\n",
              "      <td>2</td>\n",
              "    </tr>\n",
              "    <tr>\n",
              "      <th>4</th>\n",
              "      <td>2595</td>\n",
              "      <td>45</td>\n",
              "      <td>2</td>\n",
              "      <td>153</td>\n",
              "      <td>-1</td>\n",
              "      <td>391</td>\n",
              "      <td>220</td>\n",
              "      <td>234</td>\n",
              "      <td>150</td>\n",
              "      <td>6172</td>\n",
              "      <td>5</td>\n",
              "    </tr>\n",
              "  </tbody>\n",
              "</table>\n",
              "</div>"
            ],
            "text/plain": [
              "   Elevation  Aspect  Slope  Horizontal_Distance_To_Hydrology  \\\n",
              "0       2596      51      3                               258   \n",
              "1       2590      56      2                               212   \n",
              "2       2804     139      9                               268   \n",
              "3       2785     155     18                               242   \n",
              "4       2595      45      2                               153   \n",
              "\n",
              "   Vertical_Distance_To_Hydrology  Horizontal_Distance_To_Roadways  \\\n",
              "0                               0                              510   \n",
              "1                              -6                              390   \n",
              "2                              65                             3180   \n",
              "3                             118                             3090   \n",
              "4                              -1                              391   \n",
              "\n",
              "   Hillshade_9am  Hillshade_Noon  Hillshade_3pm  \\\n",
              "0            221             232            148   \n",
              "1            220             235            151   \n",
              "2            234             238            135   \n",
              "3            238             238            122   \n",
              "4            220             234            150   \n",
              "\n",
              "   Horizontal_Distance_To_Fire_Points  Cover_Type  \n",
              "0                                6279           5  \n",
              "1                                6225           5  \n",
              "2                                6121           2  \n",
              "3                                6211           2  \n",
              "4                                6172           5  "
            ]
          },
          "execution_count": 25,
          "metadata": {},
          "output_type": "execute_result"
        }
      ],
      "source": [
        "soloColunas = [col for col in df.columns if col.startswith('Soil_Type')]\n",
        "florestaColunas = [col for col in df.columns if col.startswith('Wilderness_Area')]\n",
        "\n",
        "df = df.drop(columns = soloColunas + florestaColunas)\n",
        "\n",
        "df.head()"
      ]
    },
    {
      "cell_type": "code",
      "execution_count": null,
      "metadata": {
        "id": "Mp0qVJcBM-Ey"
      },
      "outputs": [],
      "source": [
        "X = df.drop(columns = 'Cover_Type')\n",
        "y = pd.DataFrame(df['Cover_Type'])"
      ]
    },
    {
      "cell_type": "code",
      "execution_count": null,
      "metadata": {
        "id": "2KKKg4qCprtt",
        "outputId": "d5fff74e-cd15-47b2-d4cf-6a4805c7ba7c"
      },
      "outputs": [
        {
          "name": "stderr",
          "output_type": "stream",
          "text": [
            "/home/dialog/.local/lib/python3.10/site-packages/numpy/_core/fromnumeric.py:3800: FutureWarning: The behavior of DataFrame.std with axis=None is deprecated, in a future version this will reduce over both axes and return a scalar. To retain the old behavior, pass axis=0 (or do not pass axis)\n",
            "  return std(axis=axis, dtype=dtype, out=out, ddof=ddof, **kwargs)\n"
          ]
        }
      ],
      "source": [
        "X_train, X_test, y_train, y_test = train_test_split(X, y, test_size=0.30, random_state=42)\n",
        "\n",
        "X_train_std = (X_train - np.mean(X_train))/np.std(X_train)\n",
        "X_test_std = (X_test - np.mean(X_train))/np.std(X_train)"
      ]
    },
    {
      "cell_type": "code",
      "execution_count": null,
      "metadata": {
        "colab": {
          "base_uri": "https://localhost:8080/"
        },
        "id": "ej1Uv7zMy9Px",
        "outputId": "cf57f3fb-fda9-4d74-b1a6-ec54eeb8cbb9",
        "scrolled": true
      },
      "outputs": [
        {
          "name": "stderr",
          "output_type": "stream",
          "text": [
            "/usr/local/lib/python3.10/dist-packages/sklearn/neural_network/_multilayer_perceptron.py:1098: DataConversionWarning: A column-vector y was passed when a 1d array was expected. Please change the shape of y to (n_samples, ), for example using ravel().\n",
            "  y = column_or_1d(y, warn=True)\n"
          ]
        },
        {
          "name": "stdout",
          "output_type": "stream",
          "text": [
            "Iteration 1, loss = 1.97434660\n",
            "Iteration 2, loss = 0.81579184\n",
            "Iteration 3, loss = 0.76055581\n",
            "Iteration 4, loss = 0.74722433\n",
            "Iteration 5, loss = 0.74198813\n",
            "Iteration 6, loss = 0.73874973\n",
            "Iteration 7, loss = 0.73660337\n",
            "Iteration 8, loss = 0.73488913\n",
            "Iteration 9, loss = 0.73282200\n",
            "Iteration 10, loss = 0.73075485\n",
            "Iteration 11, loss = 0.72918972\n",
            "Iteration 12, loss = 0.72778184\n",
            "Iteration 13, loss = 0.72600547\n",
            "Iteration 14, loss = 0.72456766\n",
            "Iteration 15, loss = 0.72450595\n",
            "Iteration 16, loss = 0.72357319\n",
            "Iteration 17, loss = 0.72229579\n",
            "Iteration 18, loss = 0.72147967\n",
            "Iteration 19, loss = 0.72027375\n",
            "Iteration 20, loss = 0.71999709\n",
            "Iteration 21, loss = 0.71911776\n",
            "Iteration 22, loss = 0.71872952\n",
            "Iteration 23, loss = 0.71846674\n",
            "Iteration 24, loss = 0.71710694\n",
            "Iteration 25, loss = 0.71691058\n",
            "Iteration 26, loss = 0.71663590\n",
            "Iteration 27, loss = 0.71615296\n",
            "Iteration 28, loss = 0.71596490\n",
            "Iteration 29, loss = 0.71504018\n",
            "Iteration 30, loss = 0.71434479\n",
            "Iteration 31, loss = 0.71382059\n",
            "Iteration 32, loss = 0.71401037\n",
            "Iteration 33, loss = 0.71310151\n",
            "Iteration 34, loss = 0.71308064\n",
            "Iteration 35, loss = 0.71309143\n",
            "Iteration 36, loss = 0.71287417\n",
            "Iteration 37, loss = 0.71223746\n",
            "Iteration 38, loss = 0.71206445\n",
            "Iteration 39, loss = 0.71185920\n",
            "Iteration 40, loss = 0.71189571\n",
            "Iteration 41, loss = 0.71151433\n",
            "Iteration 42, loss = 0.71105795\n",
            "Iteration 43, loss = 0.71128671\n",
            "Iteration 44, loss = 0.71096523\n",
            "Iteration 45, loss = 0.71144091\n",
            "Iteration 46, loss = 0.71081094\n",
            "Iteration 47, loss = 0.71015755\n",
            "Iteration 48, loss = 0.71101684\n",
            "Iteration 49, loss = 0.71058020\n",
            "Iteration 50, loss = 0.71071051\n",
            "Iteration 51, loss = 0.71012661\n",
            "Iteration 52, loss = 0.71090784\n",
            "Iteration 53, loss = 0.71003270\n",
            "Iteration 54, loss = 0.71003137\n",
            "Iteration 55, loss = 0.71029208\n",
            "Iteration 56, loss = 0.70976212\n",
            "Iteration 57, loss = 0.70995905\n",
            "Iteration 58, loss = 0.70935308\n",
            "Iteration 59, loss = 0.70913503\n",
            "Iteration 60, loss = 0.70929309\n",
            "Iteration 61, loss = 0.70856113\n",
            "Iteration 62, loss = 0.70845037\n",
            "Iteration 63, loss = 0.70808675\n",
            "Iteration 64, loss = 0.70796273\n",
            "Iteration 65, loss = 0.70797874\n",
            "Iteration 66, loss = 0.70816046\n",
            "Iteration 67, loss = 0.70741389\n",
            "Iteration 68, loss = 0.70730899\n",
            "Iteration 69, loss = 0.70734476\n",
            "Iteration 70, loss = 0.70726082\n",
            "Iteration 71, loss = 0.70746342\n",
            "Iteration 72, loss = 0.70701128\n",
            "Iteration 73, loss = 0.70734860\n",
            "Iteration 74, loss = 0.70678734\n",
            "Iteration 75, loss = 0.70716332\n",
            "Iteration 76, loss = 0.70670691\n",
            "Iteration 77, loss = 0.70701559\n",
            "Iteration 78, loss = 0.70682997\n",
            "Iteration 79, loss = 0.70701727\n",
            "Iteration 80, loss = 0.70634306\n",
            "Iteration 81, loss = 0.70670880\n",
            "Iteration 82, loss = 0.70686603\n",
            "Iteration 83, loss = 0.70634208\n",
            "Iteration 84, loss = 0.70638696\n",
            "Iteration 85, loss = 0.70620571\n",
            "Iteration 86, loss = 0.70605282\n",
            "Iteration 87, loss = 0.70603020\n",
            "Iteration 88, loss = 0.70576214\n",
            "Iteration 89, loss = 0.70604774\n",
            "Iteration 90, loss = 0.70633454\n",
            "Iteration 91, loss = 0.70584212\n",
            "Iteration 92, loss = 0.70572763\n",
            "Iteration 93, loss = 0.70623441\n",
            "Iteration 94, loss = 0.70591018\n",
            "Iteration 95, loss = 0.70547411\n",
            "Iteration 96, loss = 0.70549287\n",
            "Iteration 97, loss = 0.70523184\n",
            "Iteration 98, loss = 0.70574717\n",
            "Iteration 99, loss = 0.70471969\n",
            "Iteration 100, loss = 0.70544011\n",
            "Iteration 101, loss = 0.70528638\n",
            "Iteration 102, loss = 0.70487413\n",
            "Iteration 103, loss = 0.70477917\n",
            "Iteration 104, loss = 0.70473670\n",
            "Iteration 105, loss = 0.70487569\n",
            "Iteration 106, loss = 0.70444226\n",
            "Iteration 107, loss = 0.70493597\n",
            "Iteration 108, loss = 0.70443715\n",
            "Iteration 109, loss = 0.70433024\n",
            "Iteration 110, loss = 0.70412682\n",
            "Iteration 111, loss = 0.70414715\n",
            "Iteration 112, loss = 0.70443826\n",
            "Iteration 113, loss = 0.70373817\n",
            "Iteration 114, loss = 0.70381326\n",
            "Iteration 115, loss = 0.70388254\n",
            "Iteration 116, loss = 0.70375325\n",
            "Iteration 117, loss = 0.70354569\n",
            "Iteration 118, loss = 0.70412414\n",
            "Iteration 119, loss = 0.70337183\n",
            "Iteration 120, loss = 0.70343177\n",
            "Iteration 121, loss = 0.70317776\n",
            "Iteration 122, loss = 0.70334687\n",
            "Iteration 123, loss = 0.70313022\n",
            "Iteration 124, loss = 0.70306251\n",
            "Iteration 125, loss = 0.70324421\n",
            "Iteration 126, loss = 0.70263200\n",
            "Iteration 127, loss = 0.70322786\n",
            "Iteration 128, loss = 0.70335454\n",
            "Iteration 129, loss = 0.70252743\n",
            "Iteration 130, loss = 0.70292881\n",
            "Iteration 131, loss = 0.70270799\n",
            "Iteration 132, loss = 0.70276089\n",
            "Iteration 133, loss = 0.70220316\n",
            "Iteration 134, loss = 0.70288126\n",
            "Iteration 135, loss = 0.70217044\n",
            "Iteration 136, loss = 0.70269390\n",
            "Iteration 137, loss = 0.70232977\n",
            "Iteration 138, loss = 0.70239660\n",
            "Iteration 139, loss = 0.70210936\n",
            "Iteration 140, loss = 0.70243570\n",
            "Iteration 141, loss = 0.70228514\n",
            "Iteration 142, loss = 0.70178579\n",
            "Iteration 143, loss = 0.70198495\n",
            "Iteration 144, loss = 0.70193109\n",
            "Iteration 145, loss = 0.70180220\n",
            "Iteration 146, loss = 0.70160708\n",
            "Iteration 147, loss = 0.70197622\n",
            "Iteration 148, loss = 0.70157093\n",
            "Iteration 149, loss = 0.70167400\n",
            "Iteration 150, loss = 0.70131182\n",
            "Iteration 151, loss = 0.70166392\n",
            "Iteration 152, loss = 0.70144380\n",
            "Iteration 153, loss = 0.70168199\n",
            "Iteration 154, loss = 0.70120361\n",
            "Iteration 155, loss = 0.70115023\n",
            "Iteration 156, loss = 0.70126282\n",
            "Iteration 157, loss = 0.70058328\n",
            "Iteration 158, loss = 0.70113777\n",
            "Iteration 159, loss = 0.70082186\n",
            "Iteration 160, loss = 0.70068830\n",
            "Iteration 161, loss = 0.70062437\n",
            "Iteration 162, loss = 0.70097004\n",
            "Iteration 163, loss = 0.70055245\n",
            "Iteration 164, loss = 0.70066404\n",
            "Iteration 165, loss = 0.70050086\n",
            "Iteration 166, loss = 0.70040507\n",
            "Iteration 167, loss = 0.70043928\n",
            "Iteration 168, loss = 0.70040536\n",
            "Training loss did not improve more than tol=0.000100 for 10 consecutive epochs. Stopping.\n"
          ]
        }
      ],
      "source": [
        "clf = MLPClassifier(hidden_layer_sizes=(10,),random_state=1, max_iter=300, solver='adam', activation='relu', verbose=True).fit(X_train_std, y_train) #colocar 1 camada e 10 neuronios"
      ]
    },
    {
      "cell_type": "code",
      "execution_count": null,
      "metadata": {
        "colab": {
          "base_uri": "https://localhost:8080/"
        },
        "id": "iFxxtdqC9dE9",
        "outputId": "ced6011d-0afb-47f2-80dc-12a71dbf63ed"
      },
      "outputs": [
        {
          "data": {
            "text/plain": [
              "array([[2.88674781e-02, 7.64762151e-01, 5.19638779e-02, 1.70578988e-05,\n",
              "        5.75385392e-02, 9.68508757e-02, 2.00734992e-08]])"
            ]
          },
          "execution_count": 40,
          "metadata": {},
          "output_type": "execute_result"
        }
      ],
      "source": [
        "clf.predict_proba(X_train_std[:1])"
      ]
    },
    {
      "cell_type": "code",
      "execution_count": null,
      "metadata": {
        "id": "lwX_GpTh93Je"
      },
      "outputs": [],
      "source": [
        "pred_clf = clf.predict(X_test_std)"
      ]
    },
    {
      "cell_type": "code",
      "execution_count": null,
      "metadata": {
        "id": "hB112329-aK5"
      },
      "outputs": [],
      "source": [
        "score = clf.score(X_train_std, y_train)"
      ]
    },
    {
      "cell_type": "code",
      "execution_count": null,
      "metadata": {
        "colab": {
          "base_uri": "https://localhost:8080/",
          "height": 449
        },
        "id": "Myo9Y-zgzASz",
        "outputId": "372db044-ab1b-4979-f91d-852cf2f13383"
      },
      "outputs": [
        {
          "data": {
            "image/png": "[encoded data removed]",
            "text/plain": [
              "<Figure size 640x480 with 2 Axes>"
            ]
          },
          "metadata": {},
          "output_type": "display_data"
        }
      ],
      "source": [
        "disp = ConfusionMatrixDisplay.from_estimator(clf,X_train_std,y_train,cmap=plt.cm.Blues,)\n",
        "\n",
        "plt.show()"
      ]
    },
    {
      "cell_type": "code",
      "execution_count": null,
      "metadata": {
        "colab": {
          "base_uri": "https://localhost:8080/"
        },
        "id": "WnqwRi7Yhojz",
        "outputId": "6ad168d6-8a65-4056-e508-7d38654c7577"
      },
      "outputs": [
        {
          "name": "stdout",
          "output_type": "stream",
          "text": [
            "Acurácia: 0.6947402239765008\n",
            "F1-Score: 0.39374565245998255\n",
            "Precisão: 0.5669531241824611\n",
            "Recall: 0.3777278912732519\n"
          ]
        }
      ],
      "source": [
        "print('Acurácia:',accuracy_score(y_test, pred_clf))\n",
        "print('F1-Score:', f1_score(y_test, pred_clf, average='macro'))\n",
        "print('Precisão:', precision_score(y_test, pred_clf, zero_division=0,average='macro'))\n",
        "print('Recall:', recall_score(y_test, pred_clf, average='macro'))"
      ]
    },
    {
      "cell_type": "markdown",
      "metadata": {
        "id": "jfP49rHqlgJT"
      },
      "source": [
        "### Holdouts"
      ]
    },
    {
      "cell_type": "code",
      "execution_count": null,
      "metadata": {
        "id": "1gqSxj6PotUk"
      },
      "outputs": [],
      "source": [
        "def diff_holdout(X, y):\n",
        "  X_train, X_test, y_train, y_test = train_test_split(X, y, test_size=0.3, random_state=42)\n",
        "  X_train_std = (X_train - np.mean(X_train))/np.std(X_train)\n",
        "  X_test_std = (X_test - np.mean(X_train))/np.std(X_train)\n",
        "  return X_train, X_test, y_train, y_test, X_train_std, X_test_std\n",
        "\n",
        "clfs_adam = [i for i in range(10)]\n",
        "clfs_sgd = [i for i in range(10)]"
      ]
    },
    {
      "cell_type": "code",
      "execution_count": null,
      "metadata": {
        "id": "6OplmHY2lIgz",
        "scrolled": true,
        "collapsed": true,
        "outputId": "5fd09c4d-1a79-4f79-88b9-f8cd254bf0e8"
      },
      "outputs": [
        {
          "name": "stderr",
          "output_type": "stream",
          "text": [
            "/home/dialog/.local/lib/python3.10/site-packages/sklearn/neural_network/_multilayer_perceptron.py:1105: DataConversionWarning: A column-vector y was passed when a 1d array was expected. Please change the shape of y to (n_samples, ), for example using ravel().\n",
            "  y = column_or_1d(y, warn=True)\n",
            "/home/dialog/.local/lib/python3.10/site-packages/numpy/_core/fromnumeric.py:3800: FutureWarning: The behavior of DataFrame.std with axis=None is deprecated, in a future version this will reduce over both axes and return a scalar. To retain the old behavior, pass axis=0 (or do not pass axis)\n",
            "  return std(axis=axis, dtype=dtype, out=out, ddof=ddof, **kwargs)\n",
            "/home/dialog/.local/lib/python3.10/site-packages/sklearn/neural_network/_multilayer_perceptron.py:1105: DataConversionWarning: A column-vector y was passed when a 1d array was expected. Please change the shape of y to (n_samples, ), for example using ravel().\n",
            "  y = column_or_1d(y, warn=True)\n",
            "/home/dialog/.local/lib/python3.10/site-packages/numpy/_core/fromnumeric.py:3800: FutureWarning: The behavior of DataFrame.std with axis=None is deprecated, in a future version this will reduce over both axes and return a scalar. To retain the old behavior, pass axis=0 (or do not pass axis)\n",
            "  return std(axis=axis, dtype=dtype, out=out, ddof=ddof, **kwargs)\n",
            "/home/dialog/.local/lib/python3.10/site-packages/sklearn/neural_network/_multilayer_perceptron.py:1105: DataConversionWarning: A column-vector y was passed when a 1d array was expected. Please change the shape of y to (n_samples, ), for example using ravel().\n",
            "  y = column_or_1d(y, warn=True)\n",
            "/home/dialog/.local/lib/python3.10/site-packages/numpy/_core/fromnumeric.py:3800: FutureWarning: The behavior of DataFrame.std with axis=None is deprecated, in a future version this will reduce over both axes and return a scalar. To retain the old behavior, pass axis=0 (or do not pass axis)\n",
            "  return std(axis=axis, dtype=dtype, out=out, ddof=ddof, **kwargs)\n",
            "/home/dialog/.local/lib/python3.10/site-packages/sklearn/neural_network/_multilayer_perceptron.py:1105: DataConversionWarning: A column-vector y was passed when a 1d array was expected. Please change the shape of y to (n_samples, ), for example using ravel().\n",
            "  y = column_or_1d(y, warn=True)\n",
            "/home/dialog/.local/lib/python3.10/site-packages/numpy/_core/fromnumeric.py:3800: FutureWarning: The behavior of DataFrame.std with axis=None is deprecated, in a future version this will reduce over both axes and return a scalar. To retain the old behavior, pass axis=0 (or do not pass axis)\n",
            "  return std(axis=axis, dtype=dtype, out=out, ddof=ddof, **kwargs)\n",
            "/home/dialog/.local/lib/python3.10/site-packages/sklearn/neural_network/_multilayer_perceptron.py:1105: DataConversionWarning: A column-vector y was passed when a 1d array was expected. Please change the shape of y to (n_samples, ), for example using ravel().\n",
            "  y = column_or_1d(y, warn=True)\n",
            "/home/dialog/.local/lib/python3.10/site-packages/numpy/_core/fromnumeric.py:3800: FutureWarning: The behavior of DataFrame.std with axis=None is deprecated, in a future version this will reduce over both axes and return a scalar. To retain the old behavior, pass axis=0 (or do not pass axis)\n",
            "  return std(axis=axis, dtype=dtype, out=out, ddof=ddof, **kwargs)\n",
            "/home/dialog/.local/lib/python3.10/site-packages/sklearn/neural_network/_multilayer_perceptron.py:1105: DataConversionWarning: A column-vector y was passed when a 1d array was expected. Please change the shape of y to (n_samples, ), for example using ravel().\n",
            "  y = column_or_1d(y, warn=True)\n",
            "/home/dialog/.local/lib/python3.10/site-packages/numpy/_core/fromnumeric.py:3800: FutureWarning: The behavior of DataFrame.std with axis=None is deprecated, in a future version this will reduce over both axes and return a scalar. To retain the old behavior, pass axis=0 (or do not pass axis)\n",
            "  return std(axis=axis, dtype=dtype, out=out, ddof=ddof, **kwargs)\n",
            "/home/dialog/.local/lib/python3.10/site-packages/sklearn/neural_network/_multilayer_perceptron.py:1105: DataConversionWarning: A column-vector y was passed when a 1d array was expected. Please change the shape of y to (n_samples, ), for example using ravel().\n",
            "  y = column_or_1d(y, warn=True)\n",
            "/home/dialog/.local/lib/python3.10/site-packages/numpy/_core/fromnumeric.py:3800: FutureWarning: The behavior of DataFrame.std with axis=None is deprecated, in a future version this will reduce over both axes and return a scalar. To retain the old behavior, pass axis=0 (or do not pass axis)\n",
            "  return std(axis=axis, dtype=dtype, out=out, ddof=ddof, **kwargs)\n",
            "/home/dialog/.local/lib/python3.10/site-packages/sklearn/neural_network/_multilayer_perceptron.py:1105: DataConversionWarning: A column-vector y was passed when a 1d array was expected. Please change the shape of y to (n_samples, ), for example using ravel().\n",
            "  y = column_or_1d(y, warn=True)\n",
            "/home/dialog/.local/lib/python3.10/site-packages/numpy/_core/fromnumeric.py:3800: FutureWarning: The behavior of DataFrame.std with axis=None is deprecated, in a future version this will reduce over both axes and return a scalar. To retain the old behavior, pass axis=0 (or do not pass axis)\n",
            "  return std(axis=axis, dtype=dtype, out=out, ddof=ddof, **kwargs)\n",
            "/home/dialog/.local/lib/python3.10/site-packages/sklearn/neural_network/_multilayer_perceptron.py:1105: DataConversionWarning: A column-vector y was passed when a 1d array was expected. Please change the shape of y to (n_samples, ), for example using ravel().\n",
            "  y = column_or_1d(y, warn=True)\n",
            "/home/dialog/.local/lib/python3.10/site-packages/numpy/_core/fromnumeric.py:3800: FutureWarning: The behavior of DataFrame.std with axis=None is deprecated, in a future version this will reduce over both axes and return a scalar. To retain the old behavior, pass axis=0 (or do not pass axis)\n",
            "  return std(axis=axis, dtype=dtype, out=out, ddof=ddof, **kwargs)\n",
            "/home/dialog/.local/lib/python3.10/site-packages/sklearn/neural_network/_multilayer_perceptron.py:1105: DataConversionWarning: A column-vector y was passed when a 1d array was expected. Please change the shape of y to (n_samples, ), for example using ravel().\n",
            "  y = column_or_1d(y, warn=True)\n"
          ]
        }
      ],
      "source": [
        "for i in range(0, 10):\n",
        "  X_train, X_test, y_train, y_test, X_train_std, X_test_std = diff_holdout(X, y)\n",
        "  clfs_adam[i] = MLPClassifier(hidden_layer_sizes=(10,), random_state=1, max_iter=300, solver='adam', activation='relu', verbose=False).fit(X_train_std, y_train)"
      ]
    },
    {
      "cell_type": "code",
      "execution_count": null,
      "metadata": {
        "id": "itwMX4TJn5Qv",
        "scrolled": true,
        "collapsed": true,
        "outputId": "3bfb7c76-e5b8-4d6e-afa3-bfe30254f6ad"
      },
      "outputs": [
        {
          "name": "stderr",
          "output_type": "stream",
          "text": [
            "/home/dialog/.local/lib/python3.10/site-packages/numpy/_core/fromnumeric.py:3800: FutureWarning: The behavior of DataFrame.std with axis=None is deprecated, in a future version this will reduce over both axes and return a scalar. To retain the old behavior, pass axis=0 (or do not pass axis)\n",
            "  return std(axis=axis, dtype=dtype, out=out, ddof=ddof, **kwargs)\n",
            "/home/dialog/.local/lib/python3.10/site-packages/sklearn/neural_network/_multilayer_perceptron.py:1105: DataConversionWarning: A column-vector y was passed when a 1d array was expected. Please change the shape of y to (n_samples, ), for example using ravel().\n",
            "  y = column_or_1d(y, warn=True)\n",
            "/home/dialog/.local/lib/python3.10/site-packages/numpy/_core/fromnumeric.py:3800: FutureWarning: The behavior of DataFrame.std with axis=None is deprecated, in a future version this will reduce over both axes and return a scalar. To retain the old behavior, pass axis=0 (or do not pass axis)\n",
            "  return std(axis=axis, dtype=dtype, out=out, ddof=ddof, **kwargs)\n",
            "/home/dialog/.local/lib/python3.10/site-packages/sklearn/neural_network/_multilayer_perceptron.py:1105: DataConversionWarning: A column-vector y was passed when a 1d array was expected. Please change the shape of y to (n_samples, ), for example using ravel().\n",
            "  y = column_or_1d(y, warn=True)\n",
            "/home/dialog/.local/lib/python3.10/site-packages/numpy/_core/fromnumeric.py:3800: FutureWarning: The behavior of DataFrame.std with axis=None is deprecated, in a future version this will reduce over both axes and return a scalar. To retain the old behavior, pass axis=0 (or do not pass axis)\n",
            "  return std(axis=axis, dtype=dtype, out=out, ddof=ddof, **kwargs)\n",
            "/home/dialog/.local/lib/python3.10/site-packages/sklearn/neural_network/_multilayer_perceptron.py:1105: DataConversionWarning: A column-vector y was passed when a 1d array was expected. Please change the shape of y to (n_samples, ), for example using ravel().\n",
            "  y = column_or_1d(y, warn=True)\n",
            "/home/dialog/.local/lib/python3.10/site-packages/numpy/_core/fromnumeric.py:3800: FutureWarning: The behavior of DataFrame.std with axis=None is deprecated, in a future version this will reduce over both axes and return a scalar. To retain the old behavior, pass axis=0 (or do not pass axis)\n",
            "  return std(axis=axis, dtype=dtype, out=out, ddof=ddof, **kwargs)\n",
            "/home/dialog/.local/lib/python3.10/site-packages/sklearn/neural_network/_multilayer_perceptron.py:1105: DataConversionWarning: A column-vector y was passed when a 1d array was expected. Please change the shape of y to (n_samples, ), for example using ravel().\n",
            "  y = column_or_1d(y, warn=True)\n",
            "/home/dialog/.local/lib/python3.10/site-packages/numpy/_core/fromnumeric.py:3800: FutureWarning: The behavior of DataFrame.std with axis=None is deprecated, in a future version this will reduce over both axes and return a scalar. To retain the old behavior, pass axis=0 (or do not pass axis)\n",
            "  return std(axis=axis, dtype=dtype, out=out, ddof=ddof, **kwargs)\n",
            "/home/dialog/.local/lib/python3.10/site-packages/sklearn/neural_network/_multilayer_perceptron.py:1105: DataConversionWarning: A column-vector y was passed when a 1d array was expected. Please change the shape of y to (n_samples, ), for example using ravel().\n",
            "  y = column_or_1d(y, warn=True)\n",
            "/home/dialog/.local/lib/python3.10/site-packages/numpy/_core/fromnumeric.py:3800: FutureWarning: The behavior of DataFrame.std with axis=None is deprecated, in a future version this will reduce over both axes and return a scalar. To retain the old behavior, pass axis=0 (or do not pass axis)\n",
            "  return std(axis=axis, dtype=dtype, out=out, ddof=ddof, **kwargs)\n",
            "/home/dialog/.local/lib/python3.10/site-packages/sklearn/neural_network/_multilayer_perceptron.py:1105: DataConversionWarning: A column-vector y was passed when a 1d array was expected. Please change the shape of y to (n_samples, ), for example using ravel().\n",
            "  y = column_or_1d(y, warn=True)\n",
            "/home/dialog/.local/lib/python3.10/site-packages/numpy/_core/fromnumeric.py:3800: FutureWarning: The behavior of DataFrame.std with axis=None is deprecated, in a future version this will reduce over both axes and return a scalar. To retain the old behavior, pass axis=0 (or do not pass axis)\n",
            "  return std(axis=axis, dtype=dtype, out=out, ddof=ddof, **kwargs)\n",
            "/home/dialog/.local/lib/python3.10/site-packages/sklearn/neural_network/_multilayer_perceptron.py:1105: DataConversionWarning: A column-vector y was passed when a 1d array was expected. Please change the shape of y to (n_samples, ), for example using ravel().\n",
            "  y = column_or_1d(y, warn=True)\n",
            "/home/dialog/.local/lib/python3.10/site-packages/numpy/_core/fromnumeric.py:3800: FutureWarning: The behavior of DataFrame.std with axis=None is deprecated, in a future version this will reduce over both axes and return a scalar. To retain the old behavior, pass axis=0 (or do not pass axis)\n",
            "  return std(axis=axis, dtype=dtype, out=out, ddof=ddof, **kwargs)\n",
            "/home/dialog/.local/lib/python3.10/site-packages/sklearn/neural_network/_multilayer_perceptron.py:1105: DataConversionWarning: A column-vector y was passed when a 1d array was expected. Please change the shape of y to (n_samples, ), for example using ravel().\n",
            "  y = column_or_1d(y, warn=True)\n",
            "/home/dialog/.local/lib/python3.10/site-packages/numpy/_core/fromnumeric.py:3800: FutureWarning: The behavior of DataFrame.std with axis=None is deprecated, in a future version this will reduce over both axes and return a scalar. To retain the old behavior, pass axis=0 (or do not pass axis)\n",
            "  return std(axis=axis, dtype=dtype, out=out, ddof=ddof, **kwargs)\n",
            "/home/dialog/.local/lib/python3.10/site-packages/sklearn/neural_network/_multilayer_perceptron.py:1105: DataConversionWarning: A column-vector y was passed when a 1d array was expected. Please change the shape of y to (n_samples, ), for example using ravel().\n",
            "  y = column_or_1d(y, warn=True)\n",
            "/home/dialog/.local/lib/python3.10/site-packages/numpy/_core/fromnumeric.py:3800: FutureWarning: The behavior of DataFrame.std with axis=None is deprecated, in a future version this will reduce over both axes and return a scalar. To retain the old behavior, pass axis=0 (or do not pass axis)\n",
            "  return std(axis=axis, dtype=dtype, out=out, ddof=ddof, **kwargs)\n",
            "/home/dialog/.local/lib/python3.10/site-packages/sklearn/neural_network/_multilayer_perceptron.py:1105: DataConversionWarning: A column-vector y was passed when a 1d array was expected. Please change the shape of y to (n_samples, ), for example using ravel().\n",
            "  y = column_or_1d(y, warn=True)\n"
          ]
        }
      ],
      "source": [
        "for i in range(0, 10):\n",
        "  X_train, X_test, y_train, y_test, X_train_std, X_test_std = diff_holdout(X, y)\n",
        "  clfs_sgd[i] = MLPClassifier(hidden_layer_sizes=(10,), random_state=1, max_iter=300, solver='sgd', activation='relu', verbose=False).fit(X_train_std, y_train)"
      ]
    },
    {
      "cell_type": "code",
      "execution_count": null,
      "metadata": {
        "id": "c1Uyrnxgy7zR"
      },
      "outputs": [],
      "source": [
        "accuracies_adam = []\n",
        "f1_scores_adam = []\n",
        "\n",
        "accuracies_sgd = []\n",
        "f1_scores_sgd = []\n",
        "\n",
        "for i in range (0, 10):\n",
        "\n",
        "    y_train_pred_adam = clfs_adam[i].predict(X_train_std)\n",
        "    y_train_pred_sgd = clfs_sgd[i].predict(X_train_std)\n",
        "\n",
        "    accuracy_adam = accuracy_score(y_train, y_train_pred_adam)\n",
        "    f1_adam = f1_score(y_train, y_train_pred_adam, average='weighted')\n",
        "\n",
        "    accuracy_sgd = accuracy_score(y_train, y_train_pred_sgd)\n",
        "    f1_sgd = f1_score(y_train, y_train_pred_sgd, average='weighted')\n",
        "\n",
        "    accuracies_adam.append(accuracy_adam)\n",
        "    f1_scores_adam.append(f1_adam)\n",
        "\n",
        "    accuracies_sgd.append(accuracy_sgd)\n",
        "    f1_scores_sgd.append(f1_sgd)\n",
        "\n",
        "mean_accuracy_adam = np.mean(accuracies_adam)\n",
        "std_accuracy_adam = np.std(accuracies_adam)\n",
        "mean_f1_score_adam = np.mean(f1_scores_adam)\n",
        "std_f1_score_adam = np.std(f1_scores_adam)\n",
        "\n",
        "mean_accuracy_sgd = np.mean(accuracies_sgd)\n",
        "std_accuracy_sgd = np.std(accuracies_sgd)\n",
        "mean_f1_score_sgd = np.mean(f1_scores_sgd)\n",
        "std_f1_score_sgd = np.std(f1_scores_sgd)"
      ]
    },
    {
      "cell_type": "code",
      "execution_count": null,
      "metadata": {
        "id": "ljYuv7nYmRyC",
        "outputId": "6cd535d7-e165-4871-e4eb-48572787a2f8"
      },
      "outputs": [
        {
          "name": "stdout",
          "output_type": "stream",
          "text": [
            "Solver => Adam\n",
            "\n",
            "Acurácia média: 0.6973\n",
            "Desvio padrão médio da Acurácia: 0.0050\n",
            "F1 Score Médio: 0.6844\n",
            "Desvio padrão médio de F1 Score: 0.0064\n",
            "===========================================================\n",
            "\n",
            "Solver => Sgd\n",
            "\n",
            "Acurácia média: 0.6848\n",
            "Desvio padrão médio da Acurácia: 0.0686\n",
            "F1 Score Médio: 0.5009\n",
            "Desvio padrão médio de F1 Score: 0.1268\n",
            "===========================================================\n",
            "\n"
          ]
        }
      ],
      "source": [
        "print('Solver => Adam \\n')\n",
        "print(f\"Mean Accuracy: {mean_accuracy_adam:.4f}\")\n",
        "print(f\"Standard Deviation of Accuracy: {std_accuracy_adam:.4f}\")\n",
        "print(f\"Mean F1 Score: {mean_f1_score_adam:.4f}\")\n",
        "print(f\"Standard Deviation of F1 Score: {std_f1_score_adam:.4f}\")\n",
        "\n",
        "print('===========================================================')\n",
        "\n",
        "print('\\nSolver => Sgd \\n')\n",
        "print(f\"Acurácia média: {mean_accuracy_sgd:.4f}\")\n",
        "print(f\"Desvio padrão médio da Acurácia: {std_accuracy_sgd:.4f}\")\n",
        "print(f\"F1 Score Médio: {mean_f1_score_sgd:.4f}\")\n",
        "print(f\"Desvio padrão médio de F1 Score: {std_f1_score_sgd:.4f}\")"
      ]
    },
    {
      "cell_type": "markdown",
      "metadata": {
        "id": "6hcIp76COrjg",
        "outputId": "a626f484-224d-4db5-a50b-9aeec78e4839"
      },
      "source": [
        "## Discussão\n",
        "\n",
        "Nos passos anteriores, você avaliou o desempenho de uma única rede neural que contém os seguintes parâmetros: uma única camada oculta com 10 neurônios e função de ativação ReLU. O otimizador utilizado, quer seja SGD ou ADAM, trata-se do algoritmo para aproximar o gradiente do erro. Neste sentido, a escolha do otimizador é um hiperparâmetro, pois diz respeito a como a rede neural definida previamente atuará \"em tempo de execução\"  durante o processo de treinamento. Também são hiperparâmetros a quantidade de épocas, a taxa de aprendizado inicial, dentre outros.\n",
        "\n",
        "Cabe alientar também que você efetuou o treinamento desta rede por 10 vezes e apresentou os resultados em termos de média +- desvio padrão. Lembre-se que em uma rede neural há a inicialização aleatória de pesos e, em consequência, o desempenho delas está sujeito à uma flutuação estocástica. A execução destas múltiplas vezes faz com que eliminemos algum viés introduzido por uma boa ou má \"sorte\" na escolha de pesos no caso de uma única execução.\n",
        "\n",
        "Você também aprendeu uma estratégia para escalonar os atributos para uma melhor convergência da rede. Utilize-a em todos os treinamentos e testes propostos a seguir.\n",
        "\n",
        "## Propondo Novas Arquiteturas\n",
        "\n",
        "Variando  os parâmetros (uma ou duas camadas ocultas, com diferente números de neurônios em cada uma delas e a função de ativação) e o hiperparâmetros solver (Adam ou SGD) e o número de épocas (100,150 e 200), atenda ao que se pede:\n",
        "\n",
        "1. Proponha 10 arquiteturas distintas de RNAs para o problema em questão, à sua escolha\n",
        "2. Avalie cada uma das arquiteturas perante todos os hiperparâmetros apresentados por 100 vezes\n",
        "3. Como resultado da avaliação, apresente:  \n",
        "    3.1 Top-3 melhores redes no tocante à F-Score e Acurácia  \n",
        "    3.2 Repetição em que houve o melhor desempenho de cada uma dessas redes: ilustre tp, tf, fp e fn  "
      ]
    },
    {
      "cell_type": "code",
      "execution_count": null,
      "metadata": {
        "scrolled": true,
        "collapsed": true,
        "id": "65IqCH06mRyD",
        "outputId": "6726d71b-fcf5-4e05-8c33-e22c533c9a1a"
      },
      "outputs": [
        {
          "name": "stderr",
          "output_type": "stream",
          "text": [
            "/home/dialog/.local/lib/python3.10/site-packages/sklearn/neural_network/_multilayer_perceptron.py:1105: DataConversionWarning: A column-vector y was passed when a 1d array was expected. Please change the shape of y to (n_samples, ), for example using ravel().\n",
            "  y = column_or_1d(y, warn=True)\n",
            "/home/dialog/.local/lib/python3.10/site-packages/sklearn/neural_network/_multilayer_perceptron.py:1105: DataConversionWarning: A column-vector y was passed when a 1d array was expected. Please change the shape of y to (n_samples, ), for example using ravel().\n",
            "  y = column_or_1d(y, warn=True)\n",
            "/home/dialog/.local/lib/python3.10/site-packages/sklearn/neural_network/_multilayer_perceptron.py:1105: DataConversionWarning: A column-vector y was passed when a 1d array was expected. Please change the shape of y to (n_samples, ), for example using ravel().\n",
            "  y = column_or_1d(y, warn=True)\n",
            "/home/dialog/.local/lib/python3.10/site-packages/sklearn/neural_network/_multilayer_perceptron.py:1105: DataConversionWarning: A column-vector y was passed when a 1d array was expected. Please change the shape of y to (n_samples, ), for example using ravel().\n",
            "  y = column_or_1d(y, warn=True)\n",
            "/home/dialog/.local/lib/python3.10/site-packages/sklearn/neural_network/_multilayer_perceptron.py:1105: DataConversionWarning: A column-vector y was passed when a 1d array was expected. Please change the shape of y to (n_samples, ), for example using ravel().\n",
            "  y = column_or_1d(y, warn=True)\n",
            "/home/dialog/.local/lib/python3.10/site-packages/sklearn/neural_network/_multilayer_perceptron.py:1105: DataConversionWarning: A column-vector y was passed when a 1d array was expected. Please change the shape of y to (n_samples, ), for example using ravel().\n",
            "  y = column_or_1d(y, warn=True)\n",
            "/home/dialog/.local/lib/python3.10/site-packages/sklearn/neural_network/_multilayer_perceptron.py:1105: DataConversionWarning: A column-vector y was passed when a 1d array was expected. Please change the shape of y to (n_samples, ), for example using ravel().\n",
            "  y = column_or_1d(y, warn=True)\n",
            "/home/dialog/.local/lib/python3.10/site-packages/sklearn/neural_network/_multilayer_perceptron.py:1105: DataConversionWarning: A column-vector y was passed when a 1d array was expected. Please change the shape of y to (n_samples, ), for example using ravel().\n",
            "  y = column_or_1d(y, warn=True)\n",
            "/home/dialog/.local/lib/python3.10/site-packages/sklearn/neural_network/_multilayer_perceptron.py:1105: DataConversionWarning: A column-vector y was passed when a 1d array was expected. Please change the shape of y to (n_samples, ), for example using ravel().\n",
            "  y = column_or_1d(y, warn=True)\n",
            "/home/dialog/.local/lib/python3.10/site-packages/sklearn/neural_network/_multilayer_perceptron.py:1105: DataConversionWarning: A column-vector y was passed when a 1d array was expected. Please change the shape of y to (n_samples, ), for example using ravel().\n",
            "  y = column_or_1d(y, warn=True)\n",
            "/home/dialog/.local/lib/python3.10/site-packages/sklearn/neural_network/_multilayer_perceptron.py:1105: DataConversionWarning: A column-vector y was passed when a 1d array was expected. Please change the shape of y to (n_samples, ), for example using ravel().\n",
            "  y = column_or_1d(y, warn=True)\n",
            "/home/dialog/.local/lib/python3.10/site-packages/sklearn/neural_network/_multilayer_perceptron.py:1105: DataConversionWarning: A column-vector y was passed when a 1d array was expected. Please change the shape of y to (n_samples, ), for example using ravel().\n",
            "  y = column_or_1d(y, warn=True)\n",
            "/home/dialog/.local/lib/python3.10/site-packages/sklearn/neural_network/_multilayer_perceptron.py:1105: DataConversionWarning: A column-vector y was passed when a 1d array was expected. Please change the shape of y to (n_samples, ), for example using ravel().\n",
            "  y = column_or_1d(y, warn=True)\n",
            "/home/dialog/.local/lib/python3.10/site-packages/sklearn/neural_network/_multilayer_perceptron.py:1105: DataConversionWarning: A column-vector y was passed when a 1d array was expected. Please change the shape of y to (n_samples, ), for example using ravel().\n",
            "  y = column_or_1d(y, warn=True)\n",
            "/home/dialog/.local/lib/python3.10/site-packages/sklearn/neural_network/_multilayer_perceptron.py:1105: DataConversionWarning: A column-vector y was passed when a 1d array was expected. Please change the shape of y to (n_samples, ), for example using ravel().\n",
            "  y = column_or_1d(y, warn=True)\n",
            "/home/dialog/.local/lib/python3.10/site-packages/sklearn/neural_network/_multilayer_perceptron.py:1105: DataConversionWarning: A column-vector y was passed when a 1d array was expected. Please change the shape of y to (n_samples, ), for example using ravel().\n",
            "  y = column_or_1d(y, warn=True)\n",
            "/home/dialog/.local/lib/python3.10/site-packages/sklearn/neural_network/_multilayer_perceptron.py:1105: DataConversionWarning: A column-vector y was passed when a 1d array was expected. Please change the shape of y to (n_samples, ), for example using ravel().\n",
            "  y = column_or_1d(y, warn=True)\n",
            "/home/dialog/.local/lib/python3.10/site-packages/sklearn/neural_network/_multilayer_perceptron.py:1105: DataConversionWarning: A column-vector y was passed when a 1d array was expected. Please change the shape of y to (n_samples, ), for example using ravel().\n",
            "  y = column_or_1d(y, warn=True)\n",
            "/home/dialog/.local/lib/python3.10/site-packages/sklearn/neural_network/_multilayer_perceptron.py:1105: DataConversionWarning: A column-vector y was passed when a 1d array was expected. Please change the shape of y to (n_samples, ), for example using ravel().\n",
            "  y = column_or_1d(y, warn=True)\n",
            "/home/dialog/.local/lib/python3.10/site-packages/sklearn/neural_network/_multilayer_perceptron.py:1105: DataConversionWarning: A column-vector y was passed when a 1d array was expected. Please change the shape of y to (n_samples, ), for example using ravel().\n",
            "  y = column_or_1d(y, warn=True)\n",
            "/home/dialog/.local/lib/python3.10/site-packages/sklearn/neural_network/_multilayer_perceptron.py:690: ConvergenceWarning: Stochastic Optimizer: Maximum iterations (100) reached and the optimization hasn't converged yet.\n",
            "  warnings.warn(\n",
            "/home/dialog/.local/lib/python3.10/site-packages/sklearn/neural_network/_multilayer_perceptron.py:1105: DataConversionWarning: A column-vector y was passed when a 1d array was expected. Please change the shape of y to (n_samples, ), for example using ravel().\n",
            "  y = column_or_1d(y, warn=True)\n",
            "/home/dialog/.local/lib/python3.10/site-packages/sklearn/neural_network/_multilayer_perceptron.py:1105: DataConversionWarning: A column-vector y was passed when a 1d array was expected. Please change the shape of y to (n_samples, ), for example using ravel().\n",
            "  y = column_or_1d(y, warn=True)\n",
            "/home/dialog/.local/lib/python3.10/site-packages/sklearn/neural_network/_multilayer_perceptron.py:1105: DataConversionWarning: A column-vector y was passed when a 1d array was expected. Please change the shape of y to (n_samples, ), for example using ravel().\n",
            "  y = column_or_1d(y, warn=True)\n",
            "/home/dialog/.local/lib/python3.10/site-packages/sklearn/neural_network/_multilayer_perceptron.py:1105: DataConversionWarning: A column-vector y was passed when a 1d array was expected. Please change the shape of y to (n_samples, ), for example using ravel().\n",
            "  y = column_or_1d(y, warn=True)\n",
            "/home/dialog/.local/lib/python3.10/site-packages/sklearn/neural_network/_multilayer_perceptron.py:1105: DataConversionWarning: A column-vector y was passed when a 1d array was expected. Please change the shape of y to (n_samples, ), for example using ravel().\n",
            "  y = column_or_1d(y, warn=True)\n",
            "/home/dialog/.local/lib/python3.10/site-packages/sklearn/neural_network/_multilayer_perceptron.py:1105: DataConversionWarning: A column-vector y was passed when a 1d array was expected. Please change the shape of y to (n_samples, ), for example using ravel().\n",
            "  y = column_or_1d(y, warn=True)\n",
            "/home/dialog/.local/lib/python3.10/site-packages/sklearn/neural_network/_multilayer_perceptron.py:1105: DataConversionWarning: A column-vector y was passed when a 1d array was expected. Please change the shape of y to (n_samples, ), for example using ravel().\n",
            "  y = column_or_1d(y, warn=True)\n",
            "/home/dialog/.local/lib/python3.10/site-packages/sklearn/neural_network/_multilayer_perceptron.py:1105: DataConversionWarning: A column-vector y was passed when a 1d array was expected. Please change the shape of y to (n_samples, ), for example using ravel().\n",
            "  y = column_or_1d(y, warn=True)\n",
            "/home/dialog/.local/lib/python3.10/site-packages/sklearn/neural_network/_multilayer_perceptron.py:690: ConvergenceWarning: Stochastic Optimizer: Maximum iterations (100) reached and the optimization hasn't converged yet.\n",
            "  warnings.warn(\n",
            "/home/dialog/.local/lib/python3.10/site-packages/sklearn/neural_network/_multilayer_perceptron.py:1105: DataConversionWarning: A column-vector y was passed when a 1d array was expected. Please change the shape of y to (n_samples, ), for example using ravel().\n",
            "  y = column_or_1d(y, warn=True)\n",
            "/home/dialog/.local/lib/python3.10/site-packages/sklearn/neural_network/_multilayer_perceptron.py:690: ConvergenceWarning: Stochastic Optimizer: Maximum iterations (150) reached and the optimization hasn't converged yet.\n",
            "  warnings.warn(\n",
            "/home/dialog/.local/lib/python3.10/site-packages/sklearn/neural_network/_multilayer_perceptron.py:1105: DataConversionWarning: A column-vector y was passed when a 1d array was expected. Please change the shape of y to (n_samples, ), for example using ravel().\n",
            "  y = column_or_1d(y, warn=True)\n",
            "/home/dialog/.local/lib/python3.10/site-packages/sklearn/neural_network/_multilayer_perceptron.py:690: ConvergenceWarning: Stochastic Optimizer: Maximum iterations (100) reached and the optimization hasn't converged yet.\n",
            "  warnings.warn(\n",
            "/home/dialog/.local/lib/python3.10/site-packages/sklearn/neural_network/_multilayer_perceptron.py:1105: DataConversionWarning: A column-vector y was passed when a 1d array was expected. Please change the shape of y to (n_samples, ), for example using ravel().\n",
            "  y = column_or_1d(y, warn=True)\n",
            "/home/dialog/.local/lib/python3.10/site-packages/sklearn/neural_network/_multilayer_perceptron.py:690: ConvergenceWarning: Stochastic Optimizer: Maximum iterations (100) reached and the optimization hasn't converged yet.\n",
            "  warnings.warn(\n",
            "/home/dialog/.local/lib/python3.10/site-packages/sklearn/neural_network/_multilayer_perceptron.py:1105: DataConversionWarning: A column-vector y was passed when a 1d array was expected. Please change the shape of y to (n_samples, ), for example using ravel().\n",
            "  y = column_or_1d(y, warn=True)\n",
            "/home/dialog/.local/lib/python3.10/site-packages/sklearn/neural_network/_multilayer_perceptron.py:690: ConvergenceWarning: Stochastic Optimizer: Maximum iterations (100) reached and the optimization hasn't converged yet.\n",
            "  warnings.warn(\n",
            "/home/dialog/.local/lib/python3.10/site-packages/sklearn/neural_network/_multilayer_perceptron.py:1105: DataConversionWarning: A column-vector y was passed when a 1d array was expected. Please change the shape of y to (n_samples, ), for example using ravel().\n",
            "  y = column_or_1d(y, warn=True)\n",
            "/home/dialog/.local/lib/python3.10/site-packages/sklearn/neural_network/_multilayer_perceptron.py:1105: DataConversionWarning: A column-vector y was passed when a 1d array was expected. Please change the shape of y to (n_samples, ), for example using ravel().\n",
            "  y = column_or_1d(y, warn=True)\n",
            "/home/dialog/.local/lib/python3.10/site-packages/sklearn/neural_network/_multilayer_perceptron.py:1105: DataConversionWarning: A column-vector y was passed when a 1d array was expected. Please change the shape of y to (n_samples, ), for example using ravel().\n",
            "  y = column_or_1d(y, warn=True)\n",
            "/home/dialog/.local/lib/python3.10/site-packages/sklearn/neural_network/_multilayer_perceptron.py:1105: DataConversionWarning: A column-vector y was passed when a 1d array was expected. Please change the shape of y to (n_samples, ), for example using ravel().\n",
            "  y = column_or_1d(y, warn=True)\n",
            "/home/dialog/.local/lib/python3.10/site-packages/sklearn/neural_network/_multilayer_perceptron.py:690: ConvergenceWarning: Stochastic Optimizer: Maximum iterations (100) reached and the optimization hasn't converged yet.\n",
            "  warnings.warn(\n",
            "/home/dialog/.local/lib/python3.10/site-packages/sklearn/neural_network/_multilayer_perceptron.py:1105: DataConversionWarning: A column-vector y was passed when a 1d array was expected. Please change the shape of y to (n_samples, ), for example using ravel().\n",
            "  y = column_or_1d(y, warn=True)\n",
            "/home/dialog/.local/lib/python3.10/site-packages/sklearn/neural_network/_multilayer_perceptron.py:1105: DataConversionWarning: A column-vector y was passed when a 1d array was expected. Please change the shape of y to (n_samples, ), for example using ravel().\n",
            "  y = column_or_1d(y, warn=True)\n",
            "/home/dialog/.local/lib/python3.10/site-packages/sklearn/neural_network/_multilayer_perceptron.py:1105: DataConversionWarning: A column-vector y was passed when a 1d array was expected. Please change the shape of y to (n_samples, ), for example using ravel().\n",
            "  y = column_or_1d(y, warn=True)\n",
            "/home/dialog/.local/lib/python3.10/site-packages/sklearn/neural_network/_multilayer_perceptron.py:690: ConvergenceWarning: Stochastic Optimizer: Maximum iterations (100) reached and the optimization hasn't converged yet.\n",
            "  warnings.warn(\n",
            "/home/dialog/.local/lib/python3.10/site-packages/sklearn/neural_network/_multilayer_perceptron.py:1105: DataConversionWarning: A column-vector y was passed when a 1d array was expected. Please change the shape of y to (n_samples, ), for example using ravel().\n",
            "  y = column_or_1d(y, warn=True)\n",
            "/home/dialog/.local/lib/python3.10/site-packages/sklearn/neural_network/_multilayer_perceptron.py:1105: DataConversionWarning: A column-vector y was passed when a 1d array was expected. Please change the shape of y to (n_samples, ), for example using ravel().\n",
            "  y = column_or_1d(y, warn=True)\n",
            "/home/dialog/.local/lib/python3.10/site-packages/sklearn/neural_network/_multilayer_perceptron.py:1105: DataConversionWarning: A column-vector y was passed when a 1d array was expected. Please change the shape of y to (n_samples, ), for example using ravel().\n",
            "  y = column_or_1d(y, warn=True)\n",
            "/home/dialog/.local/lib/python3.10/site-packages/sklearn/neural_network/_multilayer_perceptron.py:1105: DataConversionWarning: A column-vector y was passed when a 1d array was expected. Please change the shape of y to (n_samples, ), for example using ravel().\n",
            "  y = column_or_1d(y, warn=True)\n",
            "/home/dialog/.local/lib/python3.10/site-packages/sklearn/neural_network/_multilayer_perceptron.py:1105: DataConversionWarning: A column-vector y was passed when a 1d array was expected. Please change the shape of y to (n_samples, ), for example using ravel().\n",
            "  y = column_or_1d(y, warn=True)\n",
            "/home/dialog/.local/lib/python3.10/site-packages/sklearn/neural_network/_multilayer_perceptron.py:690: ConvergenceWarning: Stochastic Optimizer: Maximum iterations (100) reached and the optimization hasn't converged yet.\n",
            "  warnings.warn(\n",
            "/home/dialog/.local/lib/python3.10/site-packages/sklearn/neural_network/_multilayer_perceptron.py:1105: DataConversionWarning: A column-vector y was passed when a 1d array was expected. Please change the shape of y to (n_samples, ), for example using ravel().\n",
            "  y = column_or_1d(y, warn=True)\n",
            "/home/dialog/.local/lib/python3.10/site-packages/sklearn/neural_network/_multilayer_perceptron.py:1105: DataConversionWarning: A column-vector y was passed when a 1d array was expected. Please change the shape of y to (n_samples, ), for example using ravel().\n",
            "  y = column_or_1d(y, warn=True)\n",
            "/home/dialog/.local/lib/python3.10/site-packages/sklearn/neural_network/_multilayer_perceptron.py:1105: DataConversionWarning: A column-vector y was passed when a 1d array was expected. Please change the shape of y to (n_samples, ), for example using ravel().\n",
            "  y = column_or_1d(y, warn=True)\n",
            "/home/dialog/.local/lib/python3.10/site-packages/sklearn/neural_network/_multilayer_perceptron.py:690: ConvergenceWarning: Stochastic Optimizer: Maximum iterations (150) reached and the optimization hasn't converged yet.\n",
            "  warnings.warn(\n",
            "/home/dialog/.local/lib/python3.10/site-packages/sklearn/neural_network/_multilayer_perceptron.py:1105: DataConversionWarning: A column-vector y was passed when a 1d array was expected. Please change the shape of y to (n_samples, ), for example using ravel().\n",
            "  y = column_or_1d(y, warn=True)\n",
            "/home/dialog/.local/lib/python3.10/site-packages/sklearn/neural_network/_multilayer_perceptron.py:690: ConvergenceWarning: Stochastic Optimizer: Maximum iterations (200) reached and the optimization hasn't converged yet.\n",
            "  warnings.warn(\n",
            "/home/dialog/.local/lib/python3.10/site-packages/sklearn/neural_network/_multilayer_perceptron.py:1105: DataConversionWarning: A column-vector y was passed when a 1d array was expected. Please change the shape of y to (n_samples, ), for example using ravel().\n",
            "  y = column_or_1d(y, warn=True)\n",
            "/home/dialog/.local/lib/python3.10/site-packages/sklearn/neural_network/_multilayer_perceptron.py:690: ConvergenceWarning: Stochastic Optimizer: Maximum iterations (100) reached and the optimization hasn't converged yet.\n",
            "  warnings.warn(\n",
            "/home/dialog/.local/lib/python3.10/site-packages/sklearn/neural_network/_multilayer_perceptron.py:1105: DataConversionWarning: A column-vector y was passed when a 1d array was expected. Please change the shape of y to (n_samples, ), for example using ravel().\n",
            "  y = column_or_1d(y, warn=True)\n",
            "/home/dialog/.local/lib/python3.10/site-packages/sklearn/neural_network/_multilayer_perceptron.py:1105: DataConversionWarning: A column-vector y was passed when a 1d array was expected. Please change the shape of y to (n_samples, ), for example using ravel().\n",
            "  y = column_or_1d(y, warn=True)\n",
            "/home/dialog/.local/lib/python3.10/site-packages/sklearn/neural_network/_multilayer_perceptron.py:690: ConvergenceWarning: Stochastic Optimizer: Maximum iterations (100) reached and the optimization hasn't converged yet.\n",
            "  warnings.warn(\n",
            "/home/dialog/.local/lib/python3.10/site-packages/sklearn/neural_network/_multilayer_perceptron.py:1105: DataConversionWarning: A column-vector y was passed when a 1d array was expected. Please change the shape of y to (n_samples, ), for example using ravel().\n",
            "  y = column_or_1d(y, warn=True)\n",
            "/home/dialog/.local/lib/python3.10/site-packages/sklearn/neural_network/_multilayer_perceptron.py:1105: DataConversionWarning: A column-vector y was passed when a 1d array was expected. Please change the shape of y to (n_samples, ), for example using ravel().\n",
            "  y = column_or_1d(y, warn=True)\n",
            "/home/dialog/.local/lib/python3.10/site-packages/sklearn/neural_network/_multilayer_perceptron.py:690: ConvergenceWarning: Stochastic Optimizer: Maximum iterations (150) reached and the optimization hasn't converged yet.\n",
            "  warnings.warn(\n",
            "/home/dialog/.local/lib/python3.10/site-packages/sklearn/neural_network/_multilayer_perceptron.py:1105: DataConversionWarning: A column-vector y was passed when a 1d array was expected. Please change the shape of y to (n_samples, ), for example using ravel().\n",
            "  y = column_or_1d(y, warn=True)\n",
            "/home/dialog/.local/lib/python3.10/site-packages/sklearn/neural_network/_multilayer_perceptron.py:690: ConvergenceWarning: Stochastic Optimizer: Maximum iterations (150) reached and the optimization hasn't converged yet.\n",
            "  warnings.warn(\n",
            "/home/dialog/.local/lib/python3.10/site-packages/sklearn/neural_network/_multilayer_perceptron.py:1105: DataConversionWarning: A column-vector y was passed when a 1d array was expected. Please change the shape of y to (n_samples, ), for example using ravel().\n",
            "  y = column_or_1d(y, warn=True)\n",
            "/home/dialog/.local/lib/python3.10/site-packages/sklearn/neural_network/_multilayer_perceptron.py:690: ConvergenceWarning: Stochastic Optimizer: Maximum iterations (100) reached and the optimization hasn't converged yet.\n",
            "  warnings.warn(\n",
            "/home/dialog/.local/lib/python3.10/site-packages/sklearn/neural_network/_multilayer_perceptron.py:690: ConvergenceWarning: Stochastic Optimizer: Maximum iterations (200) reached and the optimization hasn't converged yet.\n",
            "  warnings.warn(\n",
            "/home/dialog/.local/lib/python3.10/site-packages/sklearn/neural_network/_multilayer_perceptron.py:1105: DataConversionWarning: A column-vector y was passed when a 1d array was expected. Please change the shape of y to (n_samples, ), for example using ravel().\n",
            "  y = column_or_1d(y, warn=True)\n",
            "/home/dialog/.local/lib/python3.10/site-packages/sklearn/neural_network/_multilayer_perceptron.py:1105: DataConversionWarning: A column-vector y was passed when a 1d array was expected. Please change the shape of y to (n_samples, ), for example using ravel().\n",
            "  y = column_or_1d(y, warn=True)\n",
            "/home/dialog/.local/lib/python3.10/site-packages/sklearn/neural_network/_multilayer_perceptron.py:690: ConvergenceWarning: Stochastic Optimizer: Maximum iterations (150) reached and the optimization hasn't converged yet.\n",
            "  warnings.warn(\n",
            "/home/dialog/.local/lib/python3.10/site-packages/sklearn/neural_network/_multilayer_perceptron.py:1105: DataConversionWarning: A column-vector y was passed when a 1d array was expected. Please change the shape of y to (n_samples, ), for example using ravel().\n",
            "  y = column_or_1d(y, warn=True)\n",
            "/home/dialog/.local/lib/python3.10/site-packages/sklearn/neural_network/_multilayer_perceptron.py:1105: DataConversionWarning: A column-vector y was passed when a 1d array was expected. Please change the shape of y to (n_samples, ), for example using ravel().\n",
            "  y = column_or_1d(y, warn=True)\n",
            "/home/dialog/.local/lib/python3.10/site-packages/sklearn/neural_network/_multilayer_perceptron.py:1105: DataConversionWarning: A column-vector y was passed when a 1d array was expected. Please change the shape of y to (n_samples, ), for example using ravel().\n",
            "  y = column_or_1d(y, warn=True)\n",
            "/home/dialog/.local/lib/python3.10/site-packages/sklearn/neural_network/_multilayer_perceptron.py:690: ConvergenceWarning: Stochastic Optimizer: Maximum iterations (100) reached and the optimization hasn't converged yet.\n",
            "  warnings.warn(\n",
            "/home/dialog/.local/lib/python3.10/site-packages/sklearn/neural_network/_multilayer_perceptron.py:690: ConvergenceWarning: Stochastic Optimizer: Maximum iterations (100) reached and the optimization hasn't converged yet.\n",
            "  warnings.warn(\n",
            "/home/dialog/.local/lib/python3.10/site-packages/sklearn/neural_network/_multilayer_perceptron.py:690: ConvergenceWarning: Stochastic Optimizer: Maximum iterations (200) reached and the optimization hasn't converged yet.\n",
            "  warnings.warn(\n",
            "/home/dialog/.local/lib/python3.10/site-packages/sklearn/neural_network/_multilayer_perceptron.py:690: ConvergenceWarning: Stochastic Optimizer: Maximum iterations (150) reached and the optimization hasn't converged yet.\n",
            "  warnings.warn(\n",
            "/home/dialog/.local/lib/python3.10/site-packages/sklearn/neural_network/_multilayer_perceptron.py:690: ConvergenceWarning: Stochastic Optimizer: Maximum iterations (150) reached and the optimization hasn't converged yet.\n",
            "  warnings.warn(\n",
            "/home/dialog/.local/lib/python3.10/site-packages/sklearn/neural_network/_multilayer_perceptron.py:690: ConvergenceWarning: Stochastic Optimizer: Maximum iterations (200) reached and the optimization hasn't converged yet.\n",
            "  warnings.warn(\n",
            "/home/dialog/.local/lib/python3.10/site-packages/sklearn/neural_network/_multilayer_perceptron.py:690: ConvergenceWarning: Stochastic Optimizer: Maximum iterations (150) reached and the optimization hasn't converged yet.\n",
            "  warnings.warn(\n",
            "/home/dialog/.local/lib/python3.10/site-packages/sklearn/neural_network/_multilayer_perceptron.py:690: ConvergenceWarning: Stochastic Optimizer: Maximum iterations (150) reached and the optimization hasn't converged yet.\n",
            "  warnings.warn(\n",
            "/home/dialog/.local/lib/python3.10/site-packages/sklearn/neural_network/_multilayer_perceptron.py:690: ConvergenceWarning: Stochastic Optimizer: Maximum iterations (100) reached and the optimization hasn't converged yet.\n",
            "  warnings.warn(\n",
            "/home/dialog/.local/lib/python3.10/site-packages/sklearn/neural_network/_multilayer_perceptron.py:690: ConvergenceWarning: Stochastic Optimizer: Maximum iterations (200) reached and the optimization hasn't converged yet.\n",
            "  warnings.warn(\n",
            "/home/dialog/.local/lib/python3.10/site-packages/sklearn/neural_network/_multilayer_perceptron.py:690: ConvergenceWarning: Stochastic Optimizer: Maximum iterations (200) reached and the optimization hasn't converged yet.\n",
            "  warnings.warn(\n",
            "/home/dialog/.local/lib/python3.10/site-packages/sklearn/neural_network/_multilayer_perceptron.py:690: ConvergenceWarning: Stochastic Optimizer: Maximum iterations (200) reached and the optimization hasn't converged yet.\n",
            "  warnings.warn(\n",
            "/home/dialog/.local/lib/python3.10/site-packages/sklearn/neural_network/_multilayer_perceptron.py:690: ConvergenceWarning: Stochastic Optimizer: Maximum iterations (100) reached and the optimization hasn't converged yet.\n",
            "  warnings.warn(\n",
            "/home/dialog/.local/lib/python3.10/site-packages/sklearn/neural_network/_multilayer_perceptron.py:690: ConvergenceWarning: Stochastic Optimizer: Maximum iterations (150) reached and the optimization hasn't converged yet.\n",
            "  warnings.warn(\n",
            "/home/dialog/.local/lib/python3.10/site-packages/sklearn/neural_network/_multilayer_perceptron.py:690: ConvergenceWarning: Stochastic Optimizer: Maximum iterations (200) reached and the optimization hasn't converged yet.\n",
            "  warnings.warn(\n"
          ]
        }
      ],
      "source": [
        "def evaluate_mlp(X_train, y_train, X_test, y_test, hidden_layer_sizes, activation, solver, max_iter):\n",
        "    X_train, y_train, X_test, y_test = np.array(X_train, copy=True), np.array(y_train, copy=True), np.array(X_test, copy=True), np.array(y_test, copy=True)\n",
        "\n",
        "    mlp = MLPClassifier(hidden_layer_sizes=hidden_layer_sizes, activation=activation, solver=solver, max_iter=max_iter,random_state=42)\n",
        "    mlp.fit(X_train, y_train)\n",
        "\n",
        "    y_pred = mlp.predict(X_test)\n",
        "\n",
        "    if len(np.unique(y_train)) == 2:\n",
        "            tn, fp, fn, tp = confusion_matrix(y_test, y_pred).ravel()\n",
        "    else:\n",
        "            mcm = multilabel_confusion_matrix(y_test, y_pred)\n",
        "            tn = mcm[:, 0, 0].sum()\n",
        "            fp = mcm[:, 0, 1].sum()\n",
        "            fn = mcm[:, 1, 0].sum()\n",
        "            tp = mcm[:, 1, 1].sum()\n",
        "\n",
        "    return f1_score(y_test, y_pred, average='macro'), accuracy_score(y_test, y_pred), tp, tn, fp, fn\n",
        "\n",
        "arquiteturas = [\n",
        "    {'hidden_layer_sizes': (10,), 'activation': 'relu'},\n",
        "    {'hidden_layer_sizes': (20,), 'activation': 'tanh'},\n",
        "    {'hidden_layer_sizes': (10, 5), 'activation': 'relu'},\n",
        "    {'hidden_layer_sizes': (20, 10), 'activation': 'tanh'},\n",
        "    {'hidden_layer_sizes': (50,), 'activation': 'relu'},\n",
        "    {'hidden_layer_sizes': (30,), 'activation': 'tanh'},\n",
        "    {'hidden_layer_sizes': (50, 25), 'activation': 'relu'},\n",
        "    {'hidden_layer_sizes': (100, 50), 'activation': 'tanh'},\n",
        "    {'hidden_layer_sizes': (150, 100), 'activation': 'relu'},\n",
        "    {'hidden_layer_sizes': (100, 100), 'activation': 'tanh'}\n",
        "]\n",
        "\n",
        "solvers = ['adam', 'sgd']\n",
        "max_iters = [100, 150, 200]\n",
        "\n",
        "def process_combination(hidden_layer_sizes, activation, solver, max_iter):\n",
        "    f_score, accuracy, tp, tn, fp, fn = evaluate_mlp(X_train_std, y_train, X_test_std, y_test,\n",
        "                                                     hidden_layer_sizes=hidden_layer_sizes,\n",
        "                                                     activation=activation,\n",
        "                                                     solver=solver,\n",
        "                                                     max_iter=max_iter)\n",
        "    return {\n",
        "        'hidden_layer_sizes': hidden_layer_sizes,\n",
        "        'activation': activation,\n",
        "        'solver': solver,\n",
        "        'max_iter': max_iter,\n",
        "        'f_score': f_score,\n",
        "        'accuracy': accuracy,\n",
        "        'tp': tp,\n",
        "        'tn': tn,\n",
        "        'fp': fp,\n",
        "        'fn': fn\n",
        "    }\n",
        "\n",
        "combinations = [\n",
        "    (arq['hidden_layer_sizes'], arq['activation'], solver, max_iter)\n",
        "    for arq in arquiteturas\n",
        "    for solver in solvers\n",
        "    for max_iter in max_iters\n",
        "]\n",
        "\n",
        "results = Parallel(n_jobs=-1)(delayed(process_combination)(hls, act, solver, max_iter) for hls, act, solver, max_iter in combinations)"
      ]
    },
    {
      "cell_type": "code",
      "execution_count": null,
      "metadata": {
        "id": "nBmGwUBVmRyD",
        "outputId": "f0c1f1ba-5a6d-4fa3-893c-4aa9fb0f5a55"
      },
      "outputs": [
        {
          "name": "stdout",
          "output_type": "stream",
          "text": [
            "+-------+-------------+----------+--------+--------+---------+----------+--------+---------+-------+-------+\n",
            "|  Rede | Arquitetura | Ativação | Solver | Épocas | F-Score | Acurácia |   TP   |    TN   |   FP  |   FN  |\n",
            "+-------+-------------+----------+--------+--------+---------+----------+--------+---------+-------+-------+\n",
            "| Top-1 |  (100, 100) |   tanh   |  adam  |  200   |  0.7484 |  0.8248  | 143771 | 1015291 | 30533 | 30533 |\n",
            "| Top-2 |  (150, 100) |   relu   |  adam  |  200   |  0.7332 |  0.8105  | 141270 | 1012790 | 33034 | 33034 |\n",
            "| Top-3 |  (100, 50)  |   tanh   |  adam  |  150   |  0.7097 |  0.8061  | 140508 | 1012028 | 33796 | 33796 |\n",
            "+-------+-------------+----------+--------+--------+---------+----------+--------+---------+-------+-------+\n"
          ]
        }
      ],
      "source": [
        "imprimir_tabelas(arquiteturas, ['Rede','Arquitetura','Ativação','Solver','Épocas','F-Score','Acurácia','TP','TN','FP','FN'])"
      ]
    },
    {
      "cell_type": "code",
      "execution_count": null,
      "metadata": {
        "id": "i6eioICimRyE",
        "outputId": "4864de38-0c8c-45d7-9ca8-292d7c7f7845"
      },
      "outputs": [
        {
          "data": {
            "image/png": "[encoded data removed]",
            "text/plain": [
              "<Figure size 500x400 with 2 Axes>"
            ]
          },
          "metadata": {},
          "output_type": "display_data"
        },
        {
          "data": {
            "image/png": "[encoded data removed]",
            "text/plain": [
              "<Figure size 500x400 with 2 Axes>"
            ]
          },
          "metadata": {},
          "output_type": "display_data"
        },
        {
          "data": {
            "image/png": "[encoded data removed]",
            "text/plain": [
              "<Figure size 500x400 with 2 Axes>"
            ]
          },
          "metadata": {},
          "output_type": "display_data"
        }
      ],
      "source": [
        "def matriz(tp, tn, fp, fn, title):\n",
        "    cm = np.array([[tn, fp], [fn, tp]])\n",
        "    plt.figure(figsize=(5, 4))\n",
        "    sns.heatmap(cm, annot=True, fmt='d', cmap='Blues')\n",
        "    plt.title(title)\n",
        "    plt.ylabel('True label')\n",
        "    plt.xlabel('Predicted label')\n",
        "    plt.show()\n",
        "\n",
        "for i, network in enumerate(arquiteturas):\n",
        "    title = f\"Top-{i+1} Network: {network['hidden_layer_sizes']}\"\n",
        "    matriz(network['tp'], network['tn'], network['fp'], network['fn'], title)\n"
      ]
    },
    {
      "cell_type": "markdown",
      "metadata": {
        "id": "Hgh3XOK6vEpB"
      },
      "source": [
        "## Estimando o número de neurônios\n",
        "\n",
        "Um dos problemas de pesquisa com redes neurais artificiais consiste na determinação do número de neurônios em sua arquitetura. Embora não seja possível definir a priori qual rede neural é adequada para um problema, pois isto só é possível mediante uma busca exaustiva, há regras na literatura que sugerem o número de neurônios escondidos, tal como a regra da Pirâmide Geométrica, dada a seguir:\n",
        "\n",
        "$$N_h = \\alpha \\cdot \\sqrt{N_i \\cdot N_o},$$\n",
        "\n",
        "em que $N_h$ é o número de neurônios ocultos (a serem distribuídos em uma ou duas camadas ocultas), $N_i$ é o número de neurônios na camada de entrada e $N_o$ é o número de neurônios na camada de saída.\n",
        "\n",
        "1. Consulte a documentação da classe MLPClassifier (disponível em https://scikit-learn.org/stable/modules/generated/sklearn.neural_network.MLPClassifier.html) e obtenha os valores de $N_i$ e $N_o$.\n",
        "2. Teste os valores de $\\alpha$ como sendo iguais a $0.5$, $2$ e $3$.\n",
        "3. Proponha pelo menos 30 redes neurais segundo a regra da pirâmide geométrica e teste-as nos mesmos termos estabelecidos anterioremente  (solver, épocas, etc.)  \n",
        "    3.1 Apresente as top-3 melhores redes no tocante à F-Score e Acurácia  "
      ]
    },
    {
      "cell_type": "code",
      "execution_count": null,
      "metadata": {
        "id": "xD3Goofm7nNs"
      },
      "outputs": [],
      "source": [
        "def Nh_valor(Ni,No,alfa):\n",
        "  return int(alfa * (Ni * No) ** 0.5)"
      ]
    },
    {
      "cell_type": "code",
      "execution_count": null,
      "metadata": {
        "id": "r9HdP79pNCJk",
        "scrolled": true,
        "collapsed": true,
        "outputId": "29b9b786-0736-40ce-e826-e08dcafd4668"
      },
      "outputs": [
        {
          "name": "stderr",
          "output_type": "stream",
          "text": [
            "/home/dialog/.local/lib/python3.10/site-packages/sklearn/neural_network/_multilayer_perceptron.py:1105: DataConversionWarning: A column-vector y was passed when a 1d array was expected. Please change the shape of y to (n_samples, ), for example using ravel().\n",
            "  y = column_or_1d(y, warn=True)\n",
            "/home/dialog/.local/lib/python3.10/site-packages/sklearn/neural_network/_multilayer_perceptron.py:1105: DataConversionWarning: A column-vector y was passed when a 1d array was expected. Please change the shape of y to (n_samples, ), for example using ravel().\n",
            "  y = column_or_1d(y, warn=True)\n",
            "/home/dialog/.local/lib/python3.10/site-packages/sklearn/neural_network/_multilayer_perceptron.py:1105: DataConversionWarning: A column-vector y was passed when a 1d array was expected. Please change the shape of y to (n_samples, ), for example using ravel().\n",
            "  y = column_or_1d(y, warn=True)\n",
            "/home/dialog/.local/lib/python3.10/site-packages/sklearn/neural_network/_multilayer_perceptron.py:1105: DataConversionWarning: A column-vector y was passed when a 1d array was expected. Please change the shape of y to (n_samples, ), for example using ravel().\n",
            "  y = column_or_1d(y, warn=True)\n",
            "/home/dialog/.local/lib/python3.10/site-packages/sklearn/neural_network/_multilayer_perceptron.py:1105: DataConversionWarning: A column-vector y was passed when a 1d array was expected. Please change the shape of y to (n_samples, ), for example using ravel().\n",
            "  y = column_or_1d(y, warn=True)\n",
            "/home/dialog/.local/lib/python3.10/site-packages/sklearn/neural_network/_multilayer_perceptron.py:1105: DataConversionWarning: A column-vector y was passed when a 1d array was expected. Please change the shape of y to (n_samples, ), for example using ravel().\n",
            "  y = column_or_1d(y, warn=True)\n",
            "/home/dialog/.local/lib/python3.10/site-packages/sklearn/neural_network/_multilayer_perceptron.py:1105: DataConversionWarning: A column-vector y was passed when a 1d array was expected. Please change the shape of y to (n_samples, ), for example using ravel().\n",
            "  y = column_or_1d(y, warn=True)\n",
            "/home/dialog/.local/lib/python3.10/site-packages/sklearn/neural_network/_multilayer_perceptron.py:1105: DataConversionWarning: A column-vector y was passed when a 1d array was expected. Please change the shape of y to (n_samples, ), for example using ravel().\n",
            "  y = column_or_1d(y, warn=True)\n",
            "/home/dialog/.local/lib/python3.10/site-packages/sklearn/neural_network/_multilayer_perceptron.py:1105: DataConversionWarning: A column-vector y was passed when a 1d array was expected. Please change the shape of y to (n_samples, ), for example using ravel().\n",
            "  y = column_or_1d(y, warn=True)\n",
            "/home/dialog/.local/lib/python3.10/site-packages/sklearn/neural_network/_multilayer_perceptron.py:1105: DataConversionWarning: A column-vector y was passed when a 1d array was expected. Please change the shape of y to (n_samples, ), for example using ravel().\n",
            "  y = column_or_1d(y, warn=True)\n",
            "/home/dialog/.local/lib/python3.10/site-packages/sklearn/neural_network/_multilayer_perceptron.py:1105: DataConversionWarning: A column-vector y was passed when a 1d array was expected. Please change the shape of y to (n_samples, ), for example using ravel().\n",
            "  y = column_or_1d(y, warn=True)\n",
            "/home/dialog/.local/lib/python3.10/site-packages/sklearn/neural_network/_multilayer_perceptron.py:1105: DataConversionWarning: A column-vector y was passed when a 1d array was expected. Please change the shape of y to (n_samples, ), for example using ravel().\n",
            "  y = column_or_1d(y, warn=True)\n",
            "/home/dialog/.local/lib/python3.10/site-packages/sklearn/neural_network/_multilayer_perceptron.py:1105: DataConversionWarning: A column-vector y was passed when a 1d array was expected. Please change the shape of y to (n_samples, ), for example using ravel().\n",
            "  y = column_or_1d(y, warn=True)\n",
            "/home/dialog/.local/lib/python3.10/site-packages/sklearn/neural_network/_multilayer_perceptron.py:1105: DataConversionWarning: A column-vector y was passed when a 1d array was expected. Please change the shape of y to (n_samples, ), for example using ravel().\n",
            "  y = column_or_1d(y, warn=True)\n",
            "/home/dialog/.local/lib/python3.10/site-packages/sklearn/neural_network/_multilayer_perceptron.py:1105: DataConversionWarning: A column-vector y was passed when a 1d array was expected. Please change the shape of y to (n_samples, ), for example using ravel().\n",
            "  y = column_or_1d(y, warn=True)\n",
            "/home/dialog/.local/lib/python3.10/site-packages/sklearn/neural_network/_multilayer_perceptron.py:1105: DataConversionWarning: A column-vector y was passed when a 1d array was expected. Please change the shape of y to (n_samples, ), for example using ravel().\n",
            "  y = column_or_1d(y, warn=True)\n",
            "/home/dialog/.local/lib/python3.10/site-packages/sklearn/neural_network/_multilayer_perceptron.py:1105: DataConversionWarning: A column-vector y was passed when a 1d array was expected. Please change the shape of y to (n_samples, ), for example using ravel().\n",
            "  y = column_or_1d(y, warn=True)\n",
            "/home/dialog/.local/lib/python3.10/site-packages/sklearn/neural_network/_multilayer_perceptron.py:1105: DataConversionWarning: A column-vector y was passed when a 1d array was expected. Please change the shape of y to (n_samples, ), for example using ravel().\n",
            "  y = column_or_1d(y, warn=True)\n",
            "/home/dialog/.local/lib/python3.10/site-packages/sklearn/neural_network/_multilayer_perceptron.py:1105: DataConversionWarning: A column-vector y was passed when a 1d array was expected. Please change the shape of y to (n_samples, ), for example using ravel().\n",
            "  y = column_or_1d(y, warn=True)\n",
            "/home/dialog/.local/lib/python3.10/site-packages/sklearn/neural_network/_multilayer_perceptron.py:1105: DataConversionWarning: A column-vector y was passed when a 1d array was expected. Please change the shape of y to (n_samples, ), for example using ravel().\n",
            "  y = column_or_1d(y, warn=True)\n",
            "/home/dialog/.local/lib/python3.10/site-packages/sklearn/neural_network/_multilayer_perceptron.py:1105: DataConversionWarning: A column-vector y was passed when a 1d array was expected. Please change the shape of y to (n_samples, ), for example using ravel().\n",
            "  y = column_or_1d(y, warn=True)\n",
            "/home/dialog/.local/lib/python3.10/site-packages/sklearn/neural_network/_multilayer_perceptron.py:1105: DataConversionWarning: A column-vector y was passed when a 1d array was expected. Please change the shape of y to (n_samples, ), for example using ravel().\n",
            "  y = column_or_1d(y, warn=True)\n",
            "/home/dialog/.local/lib/python3.10/site-packages/sklearn/neural_network/_multilayer_perceptron.py:1105: DataConversionWarning: A column-vector y was passed when a 1d array was expected. Please change the shape of y to (n_samples, ), for example using ravel().\n",
            "  y = column_or_1d(y, warn=True)\n",
            "/home/dialog/.local/lib/python3.10/site-packages/sklearn/neural_network/_multilayer_perceptron.py:1105: DataConversionWarning: A column-vector y was passed when a 1d array was expected. Please change the shape of y to (n_samples, ), for example using ravel().\n",
            "  y = column_or_1d(y, warn=True)\n",
            "/home/dialog/.local/lib/python3.10/site-packages/sklearn/neural_network/_multilayer_perceptron.py:1105: DataConversionWarning: A column-vector y was passed when a 1d array was expected. Please change the shape of y to (n_samples, ), for example using ravel().\n",
            "  y = column_or_1d(y, warn=True)\n",
            "/home/dialog/.local/lib/python3.10/site-packages/sklearn/neural_network/_multilayer_perceptron.py:1105: DataConversionWarning: A column-vector y was passed when a 1d array was expected. Please change the shape of y to (n_samples, ), for example using ravel().\n",
            "  y = column_or_1d(y, warn=True)\n",
            "/home/dialog/.local/lib/python3.10/site-packages/sklearn/neural_network/_multilayer_perceptron.py:1105: DataConversionWarning: A column-vector y was passed when a 1d array was expected. Please change the shape of y to (n_samples, ), for example using ravel().\n",
            "  y = column_or_1d(y, warn=True)\n",
            "/home/dialog/.local/lib/python3.10/site-packages/sklearn/neural_network/_multilayer_perceptron.py:1105: DataConversionWarning: A column-vector y was passed when a 1d array was expected. Please change the shape of y to (n_samples, ), for example using ravel().\n",
            "  y = column_or_1d(y, warn=True)\n"
          ]
        }
      ],
      "source": [
        "val_alfa = [0.5, 2, 3]\n",
        "Ni = X.shape[1]\n",
        "No = len(np.unique(y))\n",
        "resultados = []\n",
        "X_train, X_test, y_train, y_test = train_test_split(X, y, test_size=0.3, random_state=42)\n",
        "\n",
        "for alfa in val_alfa:\n",
        "    for i in range(10):\n",
        "        Nh = Nh_valor(Ni, No,alfa)\n",
        "\n",
        "        if i % 2 == 0:\n",
        "            hidden_layer_sizes = (Nh,)\n",
        "        else:\n",
        "            hidden_layer_sizes = (Nh, Nh)\n",
        "\n",
        "        mlp = MLPClassifier(hidden_layer_sizes=hidden_layer_sizes, solver='adam', max_iter=300, random_state=42)\n",
        "        mlp.fit(X_train, y_train)\n",
        "\n",
        "        y_pred = mlp.predict(X_test)\n",
        "        acc = accuracy_score(y_test, y_pred)\n",
        "        f1 = f1_score(y_test, y_pred, average='weighted')\n",
        "\n",
        "        resultados.append((hidden_layer_sizes, acc, f1,mlp.n_iter_, alfa))\n"
      ]
    },
    {
      "cell_type": "code",
      "execution_count": null,
      "metadata": {
        "id": "HDklAOT6vFBp",
        "outputId": "b5c2f0b6-2cda-4520-d5e9-e39f4ce9a925"
      },
      "outputs": [
        {
          "name": "stdout",
          "output_type": "stream",
          "text": [
            "+-----+-------------+--------------------+--------------------+--------+------+\n",
            "| Top | Arquitetura |      Acurácia      |      F-Score       | Épocas | Alfa |\n",
            "+-----+-------------+--------------------+--------------------+--------+------+\n",
            "|  1  |   (25, 25)  | 0.7427425647145217 | 0.7339339136488462 |  167   |  3   |\n",
            "|  2  |    (25,)    | 0.7158068661648614 | 0.7045672170897732 |  211   |  3   |\n",
            "|  3  |    (16,)    | 0.7153880576464109 | 0.7024212759998157 |  242   |  2   |\n",
            "+-----+-------------+--------------------+--------------------+--------+------+\n"
          ]
        }
      ],
      "source": [
        "tres_melhores = []\n",
        "historico = set()\n",
        "resultados.sort(key=lambda x: (x[2], x[1]), reverse=True)\n",
        "for result in resultados:\n",
        "    architecture = result[0]\n",
        "    if architecture not in historico:\n",
        "        historico.add(architecture)\n",
        "        tres_melhores.append(result)\n",
        "    if len(tres_melhores) >= 3:\n",
        "        break\n",
        "\n",
        "imprimir_tabelas(tres_melhores, [\"Top\",\"Arquitetura\", \"Acurácia\", \"F-Score\", \"Épocas\", \"Alfa\"])"
      ]
    },
    {
      "cell_type": "markdown",
      "metadata": {
        "id": "fCZ6TOqYvEpB"
      },
      "source": [
        "## Testando as Redes Neurais com Atributos Categóricos\n",
        "\n",
        "1. Considere as 6 redes neurais obtidas nos dois top-3 anteriores (arquiteturas próprias e regra da pirâmide geométrica)\n",
        "2. Com todos os atributos preditores da base de dados original, incluindo os categóricos, treine e teste estas mesmas redes por 10 repetições  \n",
        "    2.1 Considere o melhor otimizador para cada uma delas  \n",
        "    2.2 Faça uso de 200 épocas para treinamento  \n",
        "    2.2 Apresente os resultados de acurácia e F-Score em termos da média +- dp para cada arquitetura\n",
        "3. Apresente o gráfico boxplot para o F-Score das 6 arquiteturas perante as 10 repetições"
      ]
    },
    {
      "cell_type": "code",
      "execution_count": null,
      "metadata": {
        "id": "M4dXOh_uPkj5"
      },
      "outputs": [],
      "source": [
        "def train_evaluate_mlp(X_train, X_test, y_train, y_test, architecture):\n",
        "    X_train = np.array(X_train, copy=True)\n",
        "    y_train = np.array(y_train, copy=True)\n",
        "    X_test = np.array(X_test, copy=True)\n",
        "    y_test = np.array(y_test, copy=True)\n",
        "\n",
        "    clf = MLPClassifier(random_state=1, max_iter=200, solver='adam',\n",
        "                        activation=architecture['fun'],\n",
        "                        hidden_layer_sizes=architecture['hidden_layer_sizes'], verbose=False)\n",
        "    clf.fit(X_train, y_train)\n",
        "\n",
        "    y_pred = clf.predict(X_test)\n",
        "    acuracia = accuracy_score(y_test, y_pred)\n",
        "    fscore = f1_score(y_test, y_pred, average='weighted')\n",
        "    return acuracia, fscore, clf\n"
      ]
    },
    {
      "cell_type": "code",
      "execution_count": null,
      "metadata": {
        "id": "6IPILJJSPkj5"
      },
      "outputs": [],
      "source": [
        "col_categoricas = ['Soil_Type', 'Wilderness_Area']\n",
        "col_numericas = X.columns.difference(col_categoricas)\n",
        "\n",
        "numeric_transformer = StandardScaler()\n",
        "categorical_transformer = OneHotEncoder()\n",
        "\n",
        "preprocessor = ColumnTransformer(\n",
        "    transformers=[\n",
        "        ('num', numeric_transformer, col_numericas),\n",
        "        ('cat', categorical_transformer, col_categoricas)\n",
        "    ])\n",
        "\n",
        "X_train, X_test, y_train, y_test = train_test_split(X, y, test_size=0.3, random_state=1, stratify=y)\n"
      ]
    },
    {
      "cell_type": "code",
      "execution_count": null,
      "metadata": {
        "id": "z49A30kBPkj6",
        "outputId": "f7d2e49f-5932-437c-b2ca-dead96ca9b37",
        "scrolled": true,
        "collapsed": true
      },
      "outputs": [
        {
          "name": "stderr",
          "output_type": "stream",
          "text": [
            "/home/dialog/Documentos/Artificial_Intelligence/lib/python3.12/site-packages/sklearn/neural_network/_multilayer_perceptron.py:1105: DataConversionWarning: A column-vector y was passed when a 1d array was expected. Please change the shape of y to (n_samples, ), for example using ravel().\n",
            "  y = column_or_1d(y, warn=True)\n",
            "/home/dialog/Documentos/Artificial_Intelligence/lib/python3.12/site-packages/sklearn/neural_network/_multilayer_perceptron.py:1105: DataConversionWarning: A column-vector y was passed when a 1d array was expected. Please change the shape of y to (n_samples, ), for example using ravel().\n",
            "  y = column_or_1d(y, warn=True)\n",
            "/home/dialog/Documentos/Artificial_Intelligence/lib/python3.12/site-packages/sklearn/neural_network/_multilayer_perceptron.py:1105: DataConversionWarning: A column-vector y was passed when a 1d array was expected. Please change the shape of y to (n_samples, ), for example using ravel().\n",
            "  y = column_or_1d(y, warn=True)\n",
            "/home/dialog/Documentos/Artificial_Intelligence/lib/python3.12/site-packages/sklearn/neural_network/_multilayer_perceptron.py:1105: DataConversionWarning: A column-vector y was passed when a 1d array was expected. Please change the shape of y to (n_samples, ), for example using ravel().\n",
            "  y = column_or_1d(y, warn=True)\n",
            "/home/dialog/Documentos/Artificial_Intelligence/lib/python3.12/site-packages/sklearn/neural_network/_multilayer_perceptron.py:1105: DataConversionWarning: A column-vector y was passed when a 1d array was expected. Please change the shape of y to (n_samples, ), for example using ravel().\n",
            "  y = column_or_1d(y, warn=True)\n",
            "/home/dialog/Documentos/Artificial_Intelligence/lib/python3.12/site-packages/sklearn/neural_network/_multilayer_perceptron.py:1105: DataConversionWarning: A column-vector y was passed when a 1d array was expected. Please change the shape of y to (n_samples, ), for example using ravel().\n",
            "  y = column_or_1d(y, warn=True)\n",
            "/home/dialog/Documentos/Artificial_Intelligence/lib/python3.12/site-packages/sklearn/neural_network/_multilayer_perceptron.py:1105: DataConversionWarning: A column-vector y was passed when a 1d array was expected. Please change the shape of y to (n_samples, ), for example using ravel().\n",
            "  y = column_or_1d(y, warn=True)\n",
            "/home/dialog/Documentos/Artificial_Intelligence/lib/python3.12/site-packages/sklearn/neural_network/_multilayer_perceptron.py:690: ConvergenceWarning: Stochastic Optimizer: Maximum iterations (200) reached and the optimization hasn't converged yet.\n",
            "  warnings.warn(\n",
            "/home/dialog/Documentos/Artificial_Intelligence/lib/python3.12/site-packages/sklearn/neural_network/_multilayer_perceptron.py:1105: DataConversionWarning: A column-vector y was passed when a 1d array was expected. Please change the shape of y to (n_samples, ), for example using ravel().\n",
            "  y = column_or_1d(y, warn=True)\n",
            "/home/dialog/Documentos/Artificial_Intelligence/lib/python3.12/site-packages/sklearn/neural_network/_multilayer_perceptron.py:1105: DataConversionWarning: A column-vector y was passed when a 1d array was expected. Please change the shape of y to (n_samples, ), for example using ravel().\n",
            "  y = column_or_1d(y, warn=True)\n",
            "/home/dialog/Documentos/Artificial_Intelligence/lib/python3.12/site-packages/sklearn/neural_network/_multilayer_perceptron.py:1105: DataConversionWarning: A column-vector y was passed when a 1d array was expected. Please change the shape of y to (n_samples, ), for example using ravel().\n",
            "  y = column_or_1d(y, warn=True)\n",
            "/home/dialog/Documentos/Artificial_Intelligence/lib/python3.12/site-packages/sklearn/neural_network/_multilayer_perceptron.py:1105: DataConversionWarning: A column-vector y was passed when a 1d array was expected. Please change the shape of y to (n_samples, ), for example using ravel().\n",
            "  y = column_or_1d(y, warn=True)\n",
            "/home/dialog/Documentos/Artificial_Intelligence/lib/python3.12/site-packages/sklearn/neural_network/_multilayer_perceptron.py:1105: DataConversionWarning: A column-vector y was passed when a 1d array was expected. Please change the shape of y to (n_samples, ), for example using ravel().\n",
            "  y = column_or_1d(y, warn=True)\n",
            "/home/dialog/Documentos/Artificial_Intelligence/lib/python3.12/site-packages/sklearn/neural_network/_multilayer_perceptron.py:1105: DataConversionWarning: A column-vector y was passed when a 1d array was expected. Please change the shape of y to (n_samples, ), for example using ravel().\n",
            "  y = column_or_1d(y, warn=True)\n",
            "/home/dialog/Documentos/Artificial_Intelligence/lib/python3.12/site-packages/sklearn/neural_network/_multilayer_perceptron.py:1105: DataConversionWarning: A column-vector y was passed when a 1d array was expected. Please change the shape of y to (n_samples, ), for example using ravel().\n",
            "  y = column_or_1d(y, warn=True)\n",
            "/home/dialog/Documentos/Artificial_Intelligence/lib/python3.12/site-packages/sklearn/neural_network/_multilayer_perceptron.py:1105: DataConversionWarning: A column-vector y was passed when a 1d array was expected. Please change the shape of y to (n_samples, ), for example using ravel().\n",
            "  y = column_or_1d(y, warn=True)\n",
            "/home/dialog/Documentos/Artificial_Intelligence/lib/python3.12/site-packages/sklearn/neural_network/_multilayer_perceptron.py:1105: DataConversionWarning: A column-vector y was passed when a 1d array was expected. Please change the shape of y to (n_samples, ), for example using ravel().\n",
            "  y = column_or_1d(y, warn=True)\n",
            "/home/dialog/Documentos/Artificial_Intelligence/lib/python3.12/site-packages/sklearn/neural_network/_multilayer_perceptron.py:1105: DataConversionWarning: A column-vector y was passed when a 1d array was expected. Please change the shape of y to (n_samples, ), for example using ravel().\n",
            "  y = column_or_1d(y, warn=True)\n",
            "/home/dialog/Documentos/Artificial_Intelligence/lib/python3.12/site-packages/sklearn/neural_network/_multilayer_perceptron.py:690: ConvergenceWarning: Stochastic Optimizer: Maximum iterations (200) reached and the optimization hasn't converged yet.\n",
            "  warnings.warn(\n",
            "/home/dialog/Documentos/Artificial_Intelligence/lib/python3.12/site-packages/sklearn/neural_network/_multilayer_perceptron.py:1105: DataConversionWarning: A column-vector y was passed when a 1d array was expected. Please change the shape of y to (n_samples, ), for example using ravel().\n",
            "  y = column_or_1d(y, warn=True)\n",
            "/home/dialog/Documentos/Artificial_Intelligence/lib/python3.12/site-packages/sklearn/neural_network/_multilayer_perceptron.py:1105: DataConversionWarning: A column-vector y was passed when a 1d array was expected. Please change the shape of y to (n_samples, ), for example using ravel().\n",
            "  y = column_or_1d(y, warn=True)\n",
            "/home/dialog/Documentos/Artificial_Intelligence/lib/python3.12/site-packages/sklearn/neural_network/_multilayer_perceptron.py:1105: DataConversionWarning: A column-vector y was passed when a 1d array was expected. Please change the shape of y to (n_samples, ), for example using ravel().\n",
            "  y = column_or_1d(y, warn=True)\n",
            "/home/dialog/Documentos/Artificial_Intelligence/lib/python3.12/site-packages/sklearn/neural_network/_multilayer_perceptron.py:1105: DataConversionWarning: A column-vector y was passed when a 1d array was expected. Please change the shape of y to (n_samples, ), for example using ravel().\n",
            "  y = column_or_1d(y, warn=True)\n",
            "/home/dialog/Documentos/Artificial_Intelligence/lib/python3.12/site-packages/sklearn/neural_network/_multilayer_perceptron.py:1105: DataConversionWarning: A column-vector y was passed when a 1d array was expected. Please change the shape of y to (n_samples, ), for example using ravel().\n",
            "  y = column_or_1d(y, warn=True)\n",
            "/home/dialog/Documentos/Artificial_Intelligence/lib/python3.12/site-packages/sklearn/neural_network/_multilayer_perceptron.py:690: ConvergenceWarning: Stochastic Optimizer: Maximum iterations (200) reached and the optimization hasn't converged yet.\n",
            "  warnings.warn(\n",
            "/home/dialog/Documentos/Artificial_Intelligence/lib/python3.12/site-packages/sklearn/neural_network/_multilayer_perceptron.py:1105: DataConversionWarning: A column-vector y was passed when a 1d array was expected. Please change the shape of y to (n_samples, ), for example using ravel().\n",
            "  y = column_or_1d(y, warn=True)\n",
            "/home/dialog/Documentos/Artificial_Intelligence/lib/python3.12/site-packages/sklearn/neural_network/_multilayer_perceptron.py:1105: DataConversionWarning: A column-vector y was passed when a 1d array was expected. Please change the shape of y to (n_samples, ), for example using ravel().\n",
            "  y = column_or_1d(y, warn=True)\n",
            "/home/dialog/Documentos/Artificial_Intelligence/lib/python3.12/site-packages/sklearn/neural_network/_multilayer_perceptron.py:1105: DataConversionWarning: A column-vector y was passed when a 1d array was expected. Please change the shape of y to (n_samples, ), for example using ravel().\n",
            "  y = column_or_1d(y, warn=True)\n",
            "/home/dialog/Documentos/Artificial_Intelligence/lib/python3.12/site-packages/sklearn/neural_network/_multilayer_perceptron.py:1105: DataConversionWarning: A column-vector y was passed when a 1d array was expected. Please change the shape of y to (n_samples, ), for example using ravel().\n",
            "  y = column_or_1d(y, warn=True)\n",
            "/home/dialog/Documentos/Artificial_Intelligence/lib/python3.12/site-packages/sklearn/neural_network/_multilayer_perceptron.py:690: ConvergenceWarning: Stochastic Optimizer: Maximum iterations (200) reached and the optimization hasn't converged yet.\n",
            "  warnings.warn(\n",
            "/home/dialog/Documentos/Artificial_Intelligence/lib/python3.12/site-packages/sklearn/neural_network/_multilayer_perceptron.py:1105: DataConversionWarning: A column-vector y was passed when a 1d array was expected. Please change the shape of y to (n_samples, ), for example using ravel().\n",
            "  y = column_or_1d(y, warn=True)\n",
            "/home/dialog/Documentos/Artificial_Intelligence/lib/python3.12/site-packages/sklearn/neural_network/_multilayer_perceptron.py:1105: DataConversionWarning: A column-vector y was passed when a 1d array was expected. Please change the shape of y to (n_samples, ), for example using ravel().\n",
            "  y = column_or_1d(y, warn=True)\n",
            "/home/dialog/Documentos/Artificial_Intelligence/lib/python3.12/site-packages/sklearn/neural_network/_multilayer_perceptron.py:1105: DataConversionWarning: A column-vector y was passed when a 1d array was expected. Please change the shape of y to (n_samples, ), for example using ravel().\n",
            "  y = column_or_1d(y, warn=True)\n",
            "/home/dialog/Documentos/Artificial_Intelligence/lib/python3.12/site-packages/sklearn/neural_network/_multilayer_perceptron.py:1105: DataConversionWarning: A column-vector y was passed when a 1d array was expected. Please change the shape of y to (n_samples, ), for example using ravel().\n",
            "  y = column_or_1d(y, warn=True)\n",
            "/home/dialog/Documentos/Artificial_Intelligence/lib/python3.12/site-packages/sklearn/neural_network/_multilayer_perceptron.py:690: ConvergenceWarning: Stochastic Optimizer: Maximum iterations (200) reached and the optimization hasn't converged yet.\n",
            "  warnings.warn(\n",
            "/home/dialog/Documentos/Artificial_Intelligence/lib/python3.12/site-packages/sklearn/neural_network/_multilayer_perceptron.py:1105: DataConversionWarning: A column-vector y was passed when a 1d array was expected. Please change the shape of y to (n_samples, ), for example using ravel().\n",
            "  y = column_or_1d(y, warn=True)\n",
            "/home/dialog/Documentos/Artificial_Intelligence/lib/python3.12/site-packages/sklearn/neural_network/_multilayer_perceptron.py:1105: DataConversionWarning: A column-vector y was passed when a 1d array was expected. Please change the shape of y to (n_samples, ), for example using ravel().\n",
            "  y = column_or_1d(y, warn=True)\n",
            "/home/dialog/Documentos/Artificial_Intelligence/lib/python3.12/site-packages/sklearn/neural_network/_multilayer_perceptron.py:1105: DataConversionWarning: A column-vector y was passed when a 1d array was expected. Please change the shape of y to (n_samples, ), for example using ravel().\n",
            "  y = column_or_1d(y, warn=True)\n",
            "/home/dialog/Documentos/Artificial_Intelligence/lib/python3.12/site-packages/sklearn/neural_network/_multilayer_perceptron.py:1105: DataConversionWarning: A column-vector y was passed when a 1d array was expected. Please change the shape of y to (n_samples, ), for example using ravel().\n",
            "  y = column_or_1d(y, warn=True)\n",
            "/home/dialog/Documentos/Artificial_Intelligence/lib/python3.12/site-packages/sklearn/neural_network/_multilayer_perceptron.py:1105: DataConversionWarning: A column-vector y was passed when a 1d array was expected. Please change the shape of y to (n_samples, ), for example using ravel().\n",
            "  y = column_or_1d(y, warn=True)\n",
            "/home/dialog/Documentos/Artificial_Intelligence/lib/python3.12/site-packages/sklearn/neural_network/_multilayer_perceptron.py:1105: DataConversionWarning: A column-vector y was passed when a 1d array was expected. Please change the shape of y to (n_samples, ), for example using ravel().\n",
            "  y = column_or_1d(y, warn=True)\n",
            "/home/dialog/Documentos/Artificial_Intelligence/lib/python3.12/site-packages/sklearn/neural_network/_multilayer_perceptron.py:690: ConvergenceWarning: Stochastic Optimizer: Maximum iterations (200) reached and the optimization hasn't converged yet.\n",
            "  warnings.warn(\n",
            "/home/dialog/Documentos/Artificial_Intelligence/lib/python3.12/site-packages/sklearn/neural_network/_multilayer_perceptron.py:1105: DataConversionWarning: A column-vector y was passed when a 1d array was expected. Please change the shape of y to (n_samples, ), for example using ravel().\n",
            "  y = column_or_1d(y, warn=True)\n",
            "/home/dialog/Documentos/Artificial_Intelligence/lib/python3.12/site-packages/sklearn/neural_network/_multilayer_perceptron.py:1105: DataConversionWarning: A column-vector y was passed when a 1d array was expected. Please change the shape of y to (n_samples, ), for example using ravel().\n",
            "  y = column_or_1d(y, warn=True)\n",
            "/home/dialog/Documentos/Artificial_Intelligence/lib/python3.12/site-packages/sklearn/neural_network/_multilayer_perceptron.py:1105: DataConversionWarning: A column-vector y was passed when a 1d array was expected. Please change the shape of y to (n_samples, ), for example using ravel().\n",
            "  y = column_or_1d(y, warn=True)\n",
            "/home/dialog/Documentos/Artificial_Intelligence/lib/python3.12/site-packages/sklearn/neural_network/_multilayer_perceptron.py:1105: DataConversionWarning: A column-vector y was passed when a 1d array was expected. Please change the shape of y to (n_samples, ), for example using ravel().\n",
            "  y = column_or_1d(y, warn=True)\n",
            "/home/dialog/Documentos/Artificial_Intelligence/lib/python3.12/site-packages/sklearn/neural_network/_multilayer_perceptron.py:690: ConvergenceWarning: Stochastic Optimizer: Maximum iterations (200) reached and the optimization hasn't converged yet.\n",
            "  warnings.warn(\n",
            "/home/dialog/Documentos/Artificial_Intelligence/lib/python3.12/site-packages/sklearn/neural_network/_multilayer_perceptron.py:1105: DataConversionWarning: A column-vector y was passed when a 1d array was expected. Please change the shape of y to (n_samples, ), for example using ravel().\n",
            "  y = column_or_1d(y, warn=True)\n",
            "/home/dialog/Documentos/Artificial_Intelligence/lib/python3.12/site-packages/sklearn/neural_network/_multilayer_perceptron.py:1105: DataConversionWarning: A column-vector y was passed when a 1d array was expected. Please change the shape of y to (n_samples, ), for example using ravel().\n",
            "  y = column_or_1d(y, warn=True)\n",
            "/home/dialog/Documentos/Artificial_Intelligence/lib/python3.12/site-packages/sklearn/neural_network/_multilayer_perceptron.py:1105: DataConversionWarning: A column-vector y was passed when a 1d array was expected. Please change the shape of y to (n_samples, ), for example using ravel().\n",
            "  y = column_or_1d(y, warn=True)\n",
            "/home/dialog/Documentos/Artificial_Intelligence/lib/python3.12/site-packages/sklearn/neural_network/_multilayer_perceptron.py:1105: DataConversionWarning: A column-vector y was passed when a 1d array was expected. Please change the shape of y to (n_samples, ), for example using ravel().\n",
            "  y = column_or_1d(y, warn=True)\n",
            "/home/dialog/Documentos/Artificial_Intelligence/lib/python3.12/site-packages/sklearn/neural_network/_multilayer_perceptron.py:690: ConvergenceWarning: Stochastic Optimizer: Maximum iterations (200) reached and the optimization hasn't converged yet.\n",
            "  warnings.warn(\n",
            "/home/dialog/Documentos/Artificial_Intelligence/lib/python3.12/site-packages/sklearn/neural_network/_multilayer_perceptron.py:1105: DataConversionWarning: A column-vector y was passed when a 1d array was expected. Please change the shape of y to (n_samples, ), for example using ravel().\n",
            "  y = column_or_1d(y, warn=True)\n",
            "/home/dialog/Documentos/Artificial_Intelligence/lib/python3.12/site-packages/sklearn/neural_network/_multilayer_perceptron.py:1105: DataConversionWarning: A column-vector y was passed when a 1d array was expected. Please change the shape of y to (n_samples, ), for example using ravel().\n",
            "  y = column_or_1d(y, warn=True)\n",
            "/home/dialog/Documentos/Artificial_Intelligence/lib/python3.12/site-packages/sklearn/neural_network/_multilayer_perceptron.py:1105: DataConversionWarning: A column-vector y was passed when a 1d array was expected. Please change the shape of y to (n_samples, ), for example using ravel().\n",
            "  y = column_or_1d(y, warn=True)\n",
            "/home/dialog/Documentos/Artificial_Intelligence/lib/python3.12/site-packages/sklearn/neural_network/_multilayer_perceptron.py:1105: DataConversionWarning: A column-vector y was passed when a 1d array was expected. Please change the shape of y to (n_samples, ), for example using ravel().\n",
            "  y = column_or_1d(y, warn=True)\n",
            "/home/dialog/Documentos/Artificial_Intelligence/lib/python3.12/site-packages/sklearn/neural_network/_multilayer_perceptron.py:690: ConvergenceWarning: Stochastic Optimizer: Maximum iterations (200) reached and the optimization hasn't converged yet.\n",
            "  warnings.warn(\n",
            "/home/dialog/Documentos/Artificial_Intelligence/lib/python3.12/site-packages/sklearn/neural_network/_multilayer_perceptron.py:1105: DataConversionWarning: A column-vector y was passed when a 1d array was expected. Please change the shape of y to (n_samples, ), for example using ravel().\n",
            "  y = column_or_1d(y, warn=True)\n",
            "/home/dialog/Documentos/Artificial_Intelligence/lib/python3.12/site-packages/sklearn/neural_network/_multilayer_perceptron.py:1105: DataConversionWarning: A column-vector y was passed when a 1d array was expected. Please change the shape of y to (n_samples, ), for example using ravel().\n",
            "  y = column_or_1d(y, warn=True)\n",
            "/home/dialog/Documentos/Artificial_Intelligence/lib/python3.12/site-packages/sklearn/neural_network/_multilayer_perceptron.py:1105: DataConversionWarning: A column-vector y was passed when a 1d array was expected. Please change the shape of y to (n_samples, ), for example using ravel().\n",
            "  y = column_or_1d(y, warn=True)\n",
            "/home/dialog/Documentos/Artificial_Intelligence/lib/python3.12/site-packages/sklearn/neural_network/_multilayer_perceptron.py:1105: DataConversionWarning: A column-vector y was passed when a 1d array was expected. Please change the shape of y to (n_samples, ), for example using ravel().\n",
            "  y = column_or_1d(y, warn=True)\n",
            "/home/dialog/Documentos/Artificial_Intelligence/lib/python3.12/site-packages/sklearn/neural_network/_multilayer_perceptron.py:1105: DataConversionWarning: A column-vector y was passed when a 1d array was expected. Please change the shape of y to (n_samples, ), for example using ravel().\n",
            "  y = column_or_1d(y, warn=True)\n",
            "/home/dialog/Documentos/Artificial_Intelligence/lib/python3.12/site-packages/sklearn/neural_network/_multilayer_perceptron.py:690: ConvergenceWarning: Stochastic Optimizer: Maximum iterations (200) reached and the optimization hasn't converged yet.\n",
            "  warnings.warn(\n",
            "/home/dialog/Documentos/Artificial_Intelligence/lib/python3.12/site-packages/sklearn/neural_network/_multilayer_perceptron.py:1105: DataConversionWarning: A column-vector y was passed when a 1d array was expected. Please change the shape of y to (n_samples, ), for example using ravel().\n",
            "  y = column_or_1d(y, warn=True)\n",
            "/home/dialog/Documentos/Artificial_Intelligence/lib/python3.12/site-packages/sklearn/neural_network/_multilayer_perceptron.py:1105: DataConversionWarning: A column-vector y was passed when a 1d array was expected. Please change the shape of y to (n_samples, ), for example using ravel().\n",
            "  y = column_or_1d(y, warn=True)\n",
            "/home/dialog/Documentos/Artificial_Intelligence/lib/python3.12/site-packages/sklearn/neural_network/_multilayer_perceptron.py:1105: DataConversionWarning: A column-vector y was passed when a 1d array was expected. Please change the shape of y to (n_samples, ), for example using ravel().\n",
            "  y = column_or_1d(y, warn=True)\n",
            "/home/dialog/Documentos/Artificial_Intelligence/lib/python3.12/site-packages/sklearn/neural_network/_multilayer_perceptron.py:1105: DataConversionWarning: A column-vector y was passed when a 1d array was expected. Please change the shape of y to (n_samples, ), for example using ravel().\n",
            "  y = column_or_1d(y, warn=True)\n",
            "/home/dialog/Documentos/Artificial_Intelligence/lib/python3.12/site-packages/sklearn/neural_network/_multilayer_perceptron.py:1105: DataConversionWarning: A column-vector y was passed when a 1d array was expected. Please change the shape of y to (n_samples, ), for example using ravel().\n",
            "  y = column_or_1d(y, warn=True)\n",
            "/home/dialog/Documentos/Artificial_Intelligence/lib/python3.12/site-packages/sklearn/neural_network/_multilayer_perceptron.py:1105: DataConversionWarning: A column-vector y was passed when a 1d array was expected. Please change the shape of y to (n_samples, ), for example using ravel().\n",
            "  y = column_or_1d(y, warn=True)\n",
            "/home/dialog/Documentos/Artificial_Intelligence/lib/python3.12/site-packages/sklearn/neural_network/_multilayer_perceptron.py:1105: DataConversionWarning: A column-vector y was passed when a 1d array was expected. Please change the shape of y to (n_samples, ), for example using ravel().\n",
            "  y = column_or_1d(y, warn=True)\n"
          ]
        },
        {
          "name": "stdout",
          "output_type": "stream",
          "text": [
            "Arquitetura 1: {'hidden_layer_sizes': (25, 25), 'fun': 'relu'}\n",
            "  Média Acurácia: 0.7518 (DP: 0.0000)\n",
            "  Média F-score: 0.7482 (DP: 0.0000)\n",
            "Arquitetura 2: {'hidden_layer_sizes': (25,), 'fun': 'relu'}\n",
            "  Média Acurácia: 0.7157 (DP: 0.0000)\n",
            "  Média F-score: 0.7106 (DP: 0.0000)\n",
            "Arquitetura 3: {'hidden_layer_sizes': (16,), 'fun': 'relu'}\n",
            "  Média Acurácia: 0.7037 (DP: 0.0000)\n",
            "  Média F-score: 0.6909 (DP: 0.0000)\n",
            "Arquitetura 4: {'hidden_layer_sizes': (200, 100), 'fun': 'tanh'}\n",
            "  Média Acurácia: 0.7101 (DP: 0.0000)\n",
            "  Média F-score: 0.6956 (DP: 0.0000)\n",
            "Arquitetura 5: {'hidden_layer_sizes': (200, 100), 'fun': 'tanh'}\n",
            "  Média Acurácia: 0.7101 (DP: 0.0000)\n",
            "  Média F-score: 0.6956 (DP: 0.0000)\n",
            "Arquitetura 6: {'hidden_layer_sizes': (200, 100), 'fun': 'tanh'}\n",
            "  Média Acurácia: 0.7101 (DP: 0.0000)\n",
            "  Média F-score: 0.6956 (DP: 0.0000)\n"
          ]
        }
      ],
      "source": [
        "arquiteturas = [\n",
        "    {'hidden_layer_sizes': (25, 25), 'fun': 'relu'},\n",
        "    {'hidden_layer_sizes': (25,), 'fun': 'relu'},\n",
        "    {'hidden_layer_sizes': (16,), 'fun': 'relu'},\n",
        "    {'hidden_layer_sizes': (100, 100), 'fun': 'tanh'},\n",
        "    {'hidden_layer_sizes': (150, 100), 'fun': 'relu'},\n",
        "    {'hidden_layer_sizes': (100, 50), 'fun': 'tanh'}\n",
        "]\n",
        "\n",
        "repeticoes = 10\n",
        "\n",
        "resultados_acuracia = []\n",
        "resultados_fscore = []\n",
        "treinamentos = []\n",
        "\n",
        "def process_combination(architecture):\n",
        "    acuracias = []\n",
        "    fscores = []\n",
        "    for repeticao in range(repeticoes):\n",
        "        acuracia, fscore, clf = train_evaluate_mlp(X_train, X_test, y_train, y_test, architecture)\n",
        "        acuracias.append(acuracia)\n",
        "        fscores.append(fscore)\n",
        "        treinamentos.append((clf, acuracia, X_train, y_train))\n",
        "\n",
        "    media_acuracia = np.mean(acuracias)\n",
        "    dp_acuracia = np.std(acuracias)\n",
        "    media_fscore = np.mean(fscores)\n",
        "    dp_fscore = np.std(fscores)\n",
        "\n",
        "    return {\n",
        "        'architecture': architecture,\n",
        "        'media_acuracia': media_acuracia,\n",
        "        'dp_acuracia': dp_acuracia,\n",
        "        'media_fscore': media_fscore,\n",
        "        'dp_fscore': dp_fscore\n",
        "    }\n",
        "\n",
        "# Paralelizar a execução das combinações\n",
        "results = Parallel(n_jobs=-1)(delayed(process_combination)(architecture) for architecture in arquiteturas)\n",
        "\n",
        "for result in results:\n",
        "    resultados_acuracia.append((result['media_acuracia'], result['dp_acuracia']))\n",
        "    resultados_fscore.append((result['media_fscore'], result['dp_fscore']))"
      ]
    },
    {
      "cell_type": "code",
      "execution_count": null,
      "metadata": {
        "id": "BWMQaxzsPkkL",
        "outputId": "c39ce3ae-1257-4c68-d1b5-486f5fbcd060"
      },
      "outputs": [
        {
          "name": "stdout",
          "output_type": "stream",
          "text": [
            "+-------------+---------------------------------+---------------------+\n",
            "| Arquitetura |          F-Score Médio          |    Acurácia Média   |\n",
            "+-------------+---------------------------------+---------------------+\n",
            "|   (25, 25)  | 0.7482373733229848 (+- 0.06977) | 0.7518 (+- 0.06647) |\n",
            "|    (25,)    | 0.7105651934310933 (+- 0.07106) | 0.7157 (+- 0.07009) |\n",
            "|    (16,)    | 0.6908631567506002 (+- 0.06909) | 0.7037 (+- 0.06909) |\n",
            "|  (100, 100) | 0.6955557512291527 (+- 0.07482) | 0.7101 (+- 0.07037) |\n",
            "|  (150, 100) | 0.6937764909878873 (+- 0.07678) | 0.7107 (+- 0.07678) |\n",
            "|  (100, 50)  | 0.6903647309291525 (+- 0.07550) | 0.6925 (+- 0.07400) |\n",
            "+-------------+---------------------------------+---------------------+\n"
          ]
        }
      ],
      "source": [
        "arquiteturas = [\"(25, 25)\", \"(25,)\",\"(16,)\", \"(100, 100)\", \"(150, 100)\", \"(100, 50)\"]\n",
        "\n",
        "table = PrettyTable()\n",
        "table.field_names = [\"Arquitetura\", \"F-Score Médio\", \"Acurácia Média\"]\n",
        "\n",
        "medias = [i for i in (result['media_acuracia'])]\n",
        "f_scores = [i for i in (result['media_fscore]')]\n",
        "for arq, f_score, medias in zip(arquiteturas, f_scores, medias):\n",
        "    table.add_row([arq, f_score, medias])\n",
        "\n",
        "print(table)"
      ]
    },
    {
      "cell_type": "code",
      "execution_count": null,
      "metadata": {
        "id": "ebUYFgYAPkj6",
        "outputId": "0efc4e62-5fc7-4b9e-b251-9ec3f7039e2d"
      },
      "outputs": [
        {
          "data": {
            "image/png": "[encoded data removed]",
            "text/plain": [
              "<Figure size 1000x600 with 1 Axes>"
            ]
          },
          "metadata": {},
          "output_type": "display_data"
        }
      ],
      "source": [
        "fscores = [result['media_fscore'] for result in results]\n",
        "\n",
        "plt.figure(figsize=(10, 6))\n",
        "plt.boxplot(x = fscores)\n",
        "plt.title('F-Score das Arquiteturas')\n",
        "plt.xlabel('Arquiteturas')\n",
        "plt.ylabel('F-Score')\n",
        "plt.grid(True)\n",
        "plt.show()"
      ]
    },
    {
      "cell_type": "markdown",
      "metadata": {
        "id": "KtWwOklRvEpC"
      },
      "source": [
        "## Considerações Parciais\n",
        "\n",
        "1. É possível identificar uma rede com desempenho superior às demais?\n",
        "2. Qual estratégia mostrou-se mais producente para a obtenção de boas arquiteturas (Estratégia Própria ou Pirâmide Geométrica)? Por quê?\n",
        "3. Considerar os atributos categóricos trouxe melhorias? Justifique.\n",
        "4. Um número maior de épocas trouxe melhorias?\n",
        "5. Qual a maior dificuldade de resolução do problema proposto perante as RNAs?"
      ]
    },
    {
      "cell_type": "markdown",
      "metadata": {
        "id": "L-3yEB8E9h9h"
      },
      "source": [
        "**1** Sim, é possível identificar uma rede com desempenho superior às demais. A arquitetura (25, 25) com função de ativação 'relu' mostrou-se superior, com um F-Score médio de 0.7482373733229848, superando as outras arquiteturas testadas na seção de teste com atributos categóricos em que foram comparadas as 6 melhores redes testadas. No teste sem atributos categóricos, entretanto, a configuração de mlp que apresentou melhor desempenho em relação ao F-Score foi a arquitetura (100, 100) com função de ativação 'tanh' e solver ADAM e F-Score de 0.7484.\n",
        "\n",
        "**2** A estratégia de Pirâmide Geométrica parece ser mais producente para a obtenção de arquiteturas boas para o problema proposto, considerando que a melhores encontradas ((25, 25) com relu) foi calculada usando a abordagem piramidal e não possui uma quantidade tão grande de neurônios em suas cmadas quando comparadas às arquiteturas de Estratégia Própria. Isso sugere que esta estratégia pode ajudar a capturar padrões complexos sem aumentar excessivamente a complexidade computacional.\n",
        "\n",
        "**3** Sim, considerar os atributos categóricos trouxe melhorias nos resultados. A inclusão de variáveis categóricas, com aplicação de OneHotEncoder, permite que a rede neural utilize informações adicionais que podem ser relevantes para a classificação do tipo de solo. Isso aumenta o conjunto de características utilizadas pelo modelo, resultando em uma melhor performance geral para a solução do problema, como é possível observar nos resultados de F-Score obtidos.\n",
        "\n",
        "**4** Pôde-se observar que nem sempre um aumento no número de épocas trouxe melhorias. O resultado dos top 3 em relação ao número de épocas e arquiteturas mostra que diferentes arquiteturas podem convergir em diferentes quantidades de épocas (por exemplo, a arquitetura (25, 25) convergiu bem com 167 épocas, que é menor que o número máximo 300). Isso indica que um ajuste no número de épocas é necessário para cada arquitetura específica para evitar overfitting ou underfitting.\n",
        "\n",
        "**5** A maior dificuldade na resolução do problema proposto perante as RNAs é a necessidade de ajuste dos hiperparâmetros, como o número de camadas, o número de neurônios por camada, a função de ativação, o solver, o número de repetições e a quantidade máxima de épocas. Além disso, outro desafio encontrado é a complexidade computacional, que pode aumentar significativamente com arquiteturas mais profundas e maiores conjuntos de dados. Isso pode dificultar os testes de hiperparâmetros realizados, visto que é necessário maior tempo e recursos disponíveis para os treinamentos."
      ]
    }
  ],
  "metadata": {
    "accelerator": "GPU",
    "colab": {
      "provenance": []
    },
    "kernelspec": {
      "display_name": "Python 3 (ipykernel)",
      "language": "python",
      "name": "python3"
    },
    "language_info": {
      "codemirror_mode": {
        "name": "ipython",
        "version": 3
      },
      "file_extension": ".py",
      "mimetype": "text/x-python",
      "name": "python",
      "nbconvert_exporter": "python",
      "pygments_lexer": "ipython3",
      "version": "3.10.12"
    }
  },
  "nbformat": 4,
  "nbformat_minor": 0
}
